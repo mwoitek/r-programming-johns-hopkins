{
 "cells": [
  {
   "cell_type": "markdown",
   "metadata": {},
   "source": [
    "\n",
    "# Quiz: Reading and Summarizing Data"
   ]
  },
  {
   "cell_type": "markdown",
   "metadata": {},
   "source": [
    "## Imports\n"
   ]
  },
  {
   "cell_type": "code",
   "execution_count": 1,
   "metadata": {
    "lines_to_next_cell": 2
   },
   "outputs": [],
   "source": [
    "suppressPackageStartupMessages(library(R.utils))\n",
    "suppressPackageStartupMessages(library(dplyr))\n",
    "suppressPackageStartupMessages(library(readr))\n",
    "suppressPackageStartupMessages(library(readxl))"
   ]
  },
  {
   "cell_type": "markdown",
   "metadata": {},
   "source": [
    "## First Dataset\n"
   ]
  },
  {
   "cell_type": "code",
   "execution_count": 2,
   "metadata": {
    "lines_to_next_cell": 2
   },
   "outputs": [
    {
     "data": {
      "text/html": [
       "<table>\n",
       "<caption>A tibble: 20 × 29</caption>\n",
       "<thead>\n",
       "\t<tr><th scope=col>State Code</th><th scope=col>County Code</th><th scope=col>Site Num</th><th scope=col>Parameter Code</th><th scope=col>POC</th><th scope=col>Latitude</th><th scope=col>Longitude</th><th scope=col>Datum</th><th scope=col>Parameter Name</th><th scope=col>Sample Duration</th><th scope=col>⋯</th><th scope=col>AQI</th><th scope=col>Method Code</th><th scope=col>Method Name</th><th scope=col>Local Site Name</th><th scope=col>Address</th><th scope=col>State Name</th><th scope=col>County Name</th><th scope=col>City Name</th><th scope=col>CBSA Name</th><th scope=col>Date of Last Change</th></tr>\n",
       "\t<tr><th scope=col>&lt;chr&gt;</th><th scope=col>&lt;chr&gt;</th><th scope=col>&lt;chr&gt;</th><th scope=col>&lt;dbl&gt;</th><th scope=col>&lt;dbl&gt;</th><th scope=col>&lt;dbl&gt;</th><th scope=col>&lt;dbl&gt;</th><th scope=col>&lt;chr&gt;</th><th scope=col>&lt;chr&gt;</th><th scope=col>&lt;chr&gt;</th><th scope=col>⋯</th><th scope=col>&lt;lgl&gt;</th><th scope=col>&lt;dbl&gt;</th><th scope=col>&lt;chr&gt;</th><th scope=col>&lt;chr&gt;</th><th scope=col>&lt;chr&gt;</th><th scope=col>&lt;chr&gt;</th><th scope=col>&lt;chr&gt;</th><th scope=col>&lt;chr&gt;</th><th scope=col>&lt;chr&gt;</th><th scope=col>&lt;date&gt;</th></tr>\n",
       "</thead>\n",
       "<tbody>\n",
       "\t<tr><td>01</td><td>003</td><td>0010</td><td>68105</td><td>1</td><td>30.498</td><td>-87.88141</td><td>NAD83</td><td>Ambient Temperature</td><td>24 HOUR</td><td>⋯</td><td>NA</td><td>118</td><td>R &amp; P Model 2025 PM2.5 Sequent - Electronic</td><td>FAIRHOPE, Alabama</td><td><span style=white-space:pre-wrap>FAIRHOPE HIGH SCHOOL, FAIRHOPE,  ALABAMA</span></td><td>Alabama</td><td>Baldwin</td><td>Fairhope</td><td>Daphne-Fairhope-Foley, AL</td><td>2015-02-02</td></tr>\n",
       "\t<tr><td>01</td><td>003</td><td>0010</td><td>68105</td><td>1</td><td>30.498</td><td>-87.88141</td><td>NAD83</td><td>Ambient Temperature</td><td>24 HOUR</td><td>⋯</td><td>NA</td><td>118</td><td>R &amp; P Model 2025 PM2.5 Sequent - Electronic</td><td>FAIRHOPE, Alabama</td><td><span style=white-space:pre-wrap>FAIRHOPE HIGH SCHOOL, FAIRHOPE,  ALABAMA</span></td><td>Alabama</td><td>Baldwin</td><td>Fairhope</td><td>Daphne-Fairhope-Foley, AL</td><td>2015-02-02</td></tr>\n",
       "\t<tr><td>01</td><td>003</td><td>0010</td><td>68105</td><td>1</td><td>30.498</td><td>-87.88141</td><td>NAD83</td><td>Ambient Temperature</td><td>24 HOUR</td><td>⋯</td><td>NA</td><td>118</td><td>R &amp; P Model 2025 PM2.5 Sequent - Electronic</td><td>FAIRHOPE, Alabama</td><td><span style=white-space:pre-wrap>FAIRHOPE HIGH SCHOOL, FAIRHOPE,  ALABAMA</span></td><td>Alabama</td><td>Baldwin</td><td>Fairhope</td><td>Daphne-Fairhope-Foley, AL</td><td>2015-02-02</td></tr>\n",
       "\t<tr><td>01</td><td>003</td><td>0010</td><td>68105</td><td>1</td><td>30.498</td><td>-87.88141</td><td>NAD83</td><td>Ambient Temperature</td><td>24 HOUR</td><td>⋯</td><td>NA</td><td>118</td><td>R &amp; P Model 2025 PM2.5 Sequent - Electronic</td><td>FAIRHOPE, Alabama</td><td><span style=white-space:pre-wrap>FAIRHOPE HIGH SCHOOL, FAIRHOPE,  ALABAMA</span></td><td>Alabama</td><td>Baldwin</td><td>Fairhope</td><td>Daphne-Fairhope-Foley, AL</td><td>2015-02-02</td></tr>\n",
       "\t<tr><td>01</td><td>003</td><td>0010</td><td>68105</td><td>1</td><td>30.498</td><td>-87.88141</td><td>NAD83</td><td>Ambient Temperature</td><td>24 HOUR</td><td>⋯</td><td>NA</td><td>118</td><td>R &amp; P Model 2025 PM2.5 Sequent - Electronic</td><td>FAIRHOPE, Alabama</td><td><span style=white-space:pre-wrap>FAIRHOPE HIGH SCHOOL, FAIRHOPE,  ALABAMA</span></td><td>Alabama</td><td>Baldwin</td><td>Fairhope</td><td>Daphne-Fairhope-Foley, AL</td><td>2015-02-02</td></tr>\n",
       "\t<tr><td>01</td><td>003</td><td>0010</td><td>68105</td><td>1</td><td>30.498</td><td>-87.88141</td><td>NAD83</td><td>Ambient Temperature</td><td>24 HOUR</td><td>⋯</td><td>NA</td><td>118</td><td>R &amp; P Model 2025 PM2.5 Sequent - Electronic</td><td>FAIRHOPE, Alabama</td><td><span style=white-space:pre-wrap>FAIRHOPE HIGH SCHOOL, FAIRHOPE,  ALABAMA</span></td><td>Alabama</td><td>Baldwin</td><td>Fairhope</td><td>Daphne-Fairhope-Foley, AL</td><td>2015-02-02</td></tr>\n",
       "\t<tr><td>01</td><td>003</td><td>0010</td><td>68105</td><td>1</td><td>30.498</td><td>-87.88141</td><td>NAD83</td><td>Ambient Temperature</td><td>24 HOUR</td><td>⋯</td><td>NA</td><td>118</td><td>R &amp; P Model 2025 PM2.5 Sequent - Electronic</td><td>FAIRHOPE, Alabama</td><td><span style=white-space:pre-wrap>FAIRHOPE HIGH SCHOOL, FAIRHOPE,  ALABAMA</span></td><td>Alabama</td><td>Baldwin</td><td>Fairhope</td><td>Daphne-Fairhope-Foley, AL</td><td>2015-02-02</td></tr>\n",
       "\t<tr><td>01</td><td>003</td><td>0010</td><td>68105</td><td>1</td><td>30.498</td><td>-87.88141</td><td>NAD83</td><td>Ambient Temperature</td><td>24 HOUR</td><td>⋯</td><td>NA</td><td>118</td><td>R &amp; P Model 2025 PM2.5 Sequent - Electronic</td><td>FAIRHOPE, Alabama</td><td><span style=white-space:pre-wrap>FAIRHOPE HIGH SCHOOL, FAIRHOPE,  ALABAMA</span></td><td>Alabama</td><td>Baldwin</td><td>Fairhope</td><td>Daphne-Fairhope-Foley, AL</td><td>2015-02-02</td></tr>\n",
       "\t<tr><td>01</td><td>003</td><td>0010</td><td>68105</td><td>1</td><td>30.498</td><td>-87.88141</td><td>NAD83</td><td>Ambient Temperature</td><td>24 HOUR</td><td>⋯</td><td>NA</td><td>118</td><td>R &amp; P Model 2025 PM2.5 Sequent - Electronic</td><td>FAIRHOPE, Alabama</td><td><span style=white-space:pre-wrap>FAIRHOPE HIGH SCHOOL, FAIRHOPE,  ALABAMA</span></td><td>Alabama</td><td>Baldwin</td><td>Fairhope</td><td>Daphne-Fairhope-Foley, AL</td><td>2015-02-02</td></tr>\n",
       "\t<tr><td>01</td><td>003</td><td>0010</td><td>68105</td><td>1</td><td>30.498</td><td>-87.88141</td><td>NAD83</td><td>Ambient Temperature</td><td>24 HOUR</td><td>⋯</td><td>NA</td><td>118</td><td>R &amp; P Model 2025 PM2.5 Sequent - Electronic</td><td>FAIRHOPE, Alabama</td><td><span style=white-space:pre-wrap>FAIRHOPE HIGH SCHOOL, FAIRHOPE,  ALABAMA</span></td><td>Alabama</td><td>Baldwin</td><td>Fairhope</td><td>Daphne-Fairhope-Foley, AL</td><td>2015-02-02</td></tr>\n",
       "\t<tr><td>01</td><td>003</td><td>0010</td><td>68105</td><td>1</td><td>30.498</td><td>-87.88141</td><td>NAD83</td><td>Ambient Temperature</td><td>24 HOUR</td><td>⋯</td><td>NA</td><td>118</td><td>R &amp; P Model 2025 PM2.5 Sequent - Electronic</td><td>FAIRHOPE, Alabama</td><td><span style=white-space:pre-wrap>FAIRHOPE HIGH SCHOOL, FAIRHOPE,  ALABAMA</span></td><td>Alabama</td><td>Baldwin</td><td>Fairhope</td><td>Daphne-Fairhope-Foley, AL</td><td>2015-02-02</td></tr>\n",
       "\t<tr><td>01</td><td>003</td><td>0010</td><td>68105</td><td>1</td><td>30.498</td><td>-87.88141</td><td>NAD83</td><td>Ambient Temperature</td><td>24 HOUR</td><td>⋯</td><td>NA</td><td>118</td><td>R &amp; P Model 2025 PM2.5 Sequent - Electronic</td><td>FAIRHOPE, Alabama</td><td><span style=white-space:pre-wrap>FAIRHOPE HIGH SCHOOL, FAIRHOPE,  ALABAMA</span></td><td>Alabama</td><td>Baldwin</td><td>Fairhope</td><td>Daphne-Fairhope-Foley, AL</td><td>2015-02-02</td></tr>\n",
       "\t<tr><td>01</td><td>003</td><td>0010</td><td>68105</td><td>1</td><td>30.498</td><td>-87.88141</td><td>NAD83</td><td>Ambient Temperature</td><td>24 HOUR</td><td>⋯</td><td>NA</td><td>118</td><td>R &amp; P Model 2025 PM2.5 Sequent - Electronic</td><td>FAIRHOPE, Alabama</td><td><span style=white-space:pre-wrap>FAIRHOPE HIGH SCHOOL, FAIRHOPE,  ALABAMA</span></td><td>Alabama</td><td>Baldwin</td><td>Fairhope</td><td>Daphne-Fairhope-Foley, AL</td><td>2015-02-02</td></tr>\n",
       "\t<tr><td>01</td><td>003</td><td>0010</td><td>68105</td><td>1</td><td>30.498</td><td>-87.88141</td><td>NAD83</td><td>Ambient Temperature</td><td>24 HOUR</td><td>⋯</td><td>NA</td><td>118</td><td>R &amp; P Model 2025 PM2.5 Sequent - Electronic</td><td>FAIRHOPE, Alabama</td><td><span style=white-space:pre-wrap>FAIRHOPE HIGH SCHOOL, FAIRHOPE,  ALABAMA</span></td><td>Alabama</td><td>Baldwin</td><td>Fairhope</td><td>Daphne-Fairhope-Foley, AL</td><td>2015-02-02</td></tr>\n",
       "\t<tr><td>01</td><td>003</td><td>0010</td><td>68105</td><td>1</td><td>30.498</td><td>-87.88141</td><td>NAD83</td><td>Ambient Temperature</td><td>24 HOUR</td><td>⋯</td><td>NA</td><td>118</td><td>R &amp; P Model 2025 PM2.5 Sequent - Electronic</td><td>FAIRHOPE, Alabama</td><td><span style=white-space:pre-wrap>FAIRHOPE HIGH SCHOOL, FAIRHOPE,  ALABAMA</span></td><td>Alabama</td><td>Baldwin</td><td>Fairhope</td><td>Daphne-Fairhope-Foley, AL</td><td>2015-02-02</td></tr>\n",
       "\t<tr><td>01</td><td>003</td><td>0010</td><td>68105</td><td>1</td><td>30.498</td><td>-87.88141</td><td>NAD83</td><td>Ambient Temperature</td><td>24 HOUR</td><td>⋯</td><td>NA</td><td>118</td><td>R &amp; P Model 2025 PM2.5 Sequent - Electronic</td><td>FAIRHOPE, Alabama</td><td><span style=white-space:pre-wrap>FAIRHOPE HIGH SCHOOL, FAIRHOPE,  ALABAMA</span></td><td>Alabama</td><td>Baldwin</td><td>Fairhope</td><td>Daphne-Fairhope-Foley, AL</td><td>2015-02-02</td></tr>\n",
       "\t<tr><td>01</td><td>003</td><td>0010</td><td>68105</td><td>1</td><td>30.498</td><td>-87.88141</td><td>NAD83</td><td>Ambient Temperature</td><td>24 HOUR</td><td>⋯</td><td>NA</td><td>118</td><td>R &amp; P Model 2025 PM2.5 Sequent - Electronic</td><td>FAIRHOPE, Alabama</td><td><span style=white-space:pre-wrap>FAIRHOPE HIGH SCHOOL, FAIRHOPE,  ALABAMA</span></td><td>Alabama</td><td>Baldwin</td><td>Fairhope</td><td>Daphne-Fairhope-Foley, AL</td><td>2015-02-02</td></tr>\n",
       "\t<tr><td>01</td><td>003</td><td>0010</td><td>68105</td><td>1</td><td>30.498</td><td>-87.88141</td><td>NAD83</td><td>Ambient Temperature</td><td>24 HOUR</td><td>⋯</td><td>NA</td><td>118</td><td>R &amp; P Model 2025 PM2.5 Sequent - Electronic</td><td>FAIRHOPE, Alabama</td><td><span style=white-space:pre-wrap>FAIRHOPE HIGH SCHOOL, FAIRHOPE,  ALABAMA</span></td><td>Alabama</td><td>Baldwin</td><td>Fairhope</td><td>Daphne-Fairhope-Foley, AL</td><td>2015-02-02</td></tr>\n",
       "\t<tr><td>01</td><td>003</td><td>0010</td><td>68105</td><td>1</td><td>30.498</td><td>-87.88141</td><td>NAD83</td><td>Ambient Temperature</td><td>24 HOUR</td><td>⋯</td><td>NA</td><td>118</td><td>R &amp; P Model 2025 PM2.5 Sequent - Electronic</td><td>FAIRHOPE, Alabama</td><td><span style=white-space:pre-wrap>FAIRHOPE HIGH SCHOOL, FAIRHOPE,  ALABAMA</span></td><td>Alabama</td><td>Baldwin</td><td>Fairhope</td><td>Daphne-Fairhope-Foley, AL</td><td>2015-02-02</td></tr>\n",
       "\t<tr><td>01</td><td>003</td><td>0010</td><td>68105</td><td>1</td><td>30.498</td><td>-87.88141</td><td>NAD83</td><td>Ambient Temperature</td><td>24 HOUR</td><td>⋯</td><td>NA</td><td>118</td><td>R &amp; P Model 2025 PM2.5 Sequent - Electronic</td><td>FAIRHOPE, Alabama</td><td><span style=white-space:pre-wrap>FAIRHOPE HIGH SCHOOL, FAIRHOPE,  ALABAMA</span></td><td>Alabama</td><td>Baldwin</td><td>Fairhope</td><td>Daphne-Fairhope-Foley, AL</td><td>2015-02-02</td></tr>\n",
       "</tbody>\n",
       "</table>\n"
      ],
      "text/latex": [
       "A tibble: 20 × 29\n",
       "\\begin{tabular}{lllllllllllllllllllll}\n",
       " State Code & County Code & Site Num & Parameter Code & POC & Latitude & Longitude & Datum & Parameter Name & Sample Duration & ⋯ & AQI & Method Code & Method Name & Local Site Name & Address & State Name & County Name & City Name & CBSA Name & Date of Last Change\\\\\n",
       " <chr> & <chr> & <chr> & <dbl> & <dbl> & <dbl> & <dbl> & <chr> & <chr> & <chr> & ⋯ & <lgl> & <dbl> & <chr> & <chr> & <chr> & <chr> & <chr> & <chr> & <chr> & <date>\\\\\n",
       "\\hline\n",
       "\t 01 & 003 & 0010 & 68105 & 1 & 30.498 & -87.88141 & NAD83 & Ambient Temperature & 24 HOUR & ⋯ & NA & 118 & R \\& P Model 2025 PM2.5 Sequent - Electronic & FAIRHOPE, Alabama & FAIRHOPE HIGH SCHOOL, FAIRHOPE,  ALABAMA & Alabama & Baldwin & Fairhope & Daphne-Fairhope-Foley, AL & 2015-02-02\\\\\n",
       "\t 01 & 003 & 0010 & 68105 & 1 & 30.498 & -87.88141 & NAD83 & Ambient Temperature & 24 HOUR & ⋯ & NA & 118 & R \\& P Model 2025 PM2.5 Sequent - Electronic & FAIRHOPE, Alabama & FAIRHOPE HIGH SCHOOL, FAIRHOPE,  ALABAMA & Alabama & Baldwin & Fairhope & Daphne-Fairhope-Foley, AL & 2015-02-02\\\\\n",
       "\t 01 & 003 & 0010 & 68105 & 1 & 30.498 & -87.88141 & NAD83 & Ambient Temperature & 24 HOUR & ⋯ & NA & 118 & R \\& P Model 2025 PM2.5 Sequent - Electronic & FAIRHOPE, Alabama & FAIRHOPE HIGH SCHOOL, FAIRHOPE,  ALABAMA & Alabama & Baldwin & Fairhope & Daphne-Fairhope-Foley, AL & 2015-02-02\\\\\n",
       "\t 01 & 003 & 0010 & 68105 & 1 & 30.498 & -87.88141 & NAD83 & Ambient Temperature & 24 HOUR & ⋯ & NA & 118 & R \\& P Model 2025 PM2.5 Sequent - Electronic & FAIRHOPE, Alabama & FAIRHOPE HIGH SCHOOL, FAIRHOPE,  ALABAMA & Alabama & Baldwin & Fairhope & Daphne-Fairhope-Foley, AL & 2015-02-02\\\\\n",
       "\t 01 & 003 & 0010 & 68105 & 1 & 30.498 & -87.88141 & NAD83 & Ambient Temperature & 24 HOUR & ⋯ & NA & 118 & R \\& P Model 2025 PM2.5 Sequent - Electronic & FAIRHOPE, Alabama & FAIRHOPE HIGH SCHOOL, FAIRHOPE,  ALABAMA & Alabama & Baldwin & Fairhope & Daphne-Fairhope-Foley, AL & 2015-02-02\\\\\n",
       "\t 01 & 003 & 0010 & 68105 & 1 & 30.498 & -87.88141 & NAD83 & Ambient Temperature & 24 HOUR & ⋯ & NA & 118 & R \\& P Model 2025 PM2.5 Sequent - Electronic & FAIRHOPE, Alabama & FAIRHOPE HIGH SCHOOL, FAIRHOPE,  ALABAMA & Alabama & Baldwin & Fairhope & Daphne-Fairhope-Foley, AL & 2015-02-02\\\\\n",
       "\t 01 & 003 & 0010 & 68105 & 1 & 30.498 & -87.88141 & NAD83 & Ambient Temperature & 24 HOUR & ⋯ & NA & 118 & R \\& P Model 2025 PM2.5 Sequent - Electronic & FAIRHOPE, Alabama & FAIRHOPE HIGH SCHOOL, FAIRHOPE,  ALABAMA & Alabama & Baldwin & Fairhope & Daphne-Fairhope-Foley, AL & 2015-02-02\\\\\n",
       "\t 01 & 003 & 0010 & 68105 & 1 & 30.498 & -87.88141 & NAD83 & Ambient Temperature & 24 HOUR & ⋯ & NA & 118 & R \\& P Model 2025 PM2.5 Sequent - Electronic & FAIRHOPE, Alabama & FAIRHOPE HIGH SCHOOL, FAIRHOPE,  ALABAMA & Alabama & Baldwin & Fairhope & Daphne-Fairhope-Foley, AL & 2015-02-02\\\\\n",
       "\t 01 & 003 & 0010 & 68105 & 1 & 30.498 & -87.88141 & NAD83 & Ambient Temperature & 24 HOUR & ⋯ & NA & 118 & R \\& P Model 2025 PM2.5 Sequent - Electronic & FAIRHOPE, Alabama & FAIRHOPE HIGH SCHOOL, FAIRHOPE,  ALABAMA & Alabama & Baldwin & Fairhope & Daphne-Fairhope-Foley, AL & 2015-02-02\\\\\n",
       "\t 01 & 003 & 0010 & 68105 & 1 & 30.498 & -87.88141 & NAD83 & Ambient Temperature & 24 HOUR & ⋯ & NA & 118 & R \\& P Model 2025 PM2.5 Sequent - Electronic & FAIRHOPE, Alabama & FAIRHOPE HIGH SCHOOL, FAIRHOPE,  ALABAMA & Alabama & Baldwin & Fairhope & Daphne-Fairhope-Foley, AL & 2015-02-02\\\\\n",
       "\t 01 & 003 & 0010 & 68105 & 1 & 30.498 & -87.88141 & NAD83 & Ambient Temperature & 24 HOUR & ⋯ & NA & 118 & R \\& P Model 2025 PM2.5 Sequent - Electronic & FAIRHOPE, Alabama & FAIRHOPE HIGH SCHOOL, FAIRHOPE,  ALABAMA & Alabama & Baldwin & Fairhope & Daphne-Fairhope-Foley, AL & 2015-02-02\\\\\n",
       "\t 01 & 003 & 0010 & 68105 & 1 & 30.498 & -87.88141 & NAD83 & Ambient Temperature & 24 HOUR & ⋯ & NA & 118 & R \\& P Model 2025 PM2.5 Sequent - Electronic & FAIRHOPE, Alabama & FAIRHOPE HIGH SCHOOL, FAIRHOPE,  ALABAMA & Alabama & Baldwin & Fairhope & Daphne-Fairhope-Foley, AL & 2015-02-02\\\\\n",
       "\t 01 & 003 & 0010 & 68105 & 1 & 30.498 & -87.88141 & NAD83 & Ambient Temperature & 24 HOUR & ⋯ & NA & 118 & R \\& P Model 2025 PM2.5 Sequent - Electronic & FAIRHOPE, Alabama & FAIRHOPE HIGH SCHOOL, FAIRHOPE,  ALABAMA & Alabama & Baldwin & Fairhope & Daphne-Fairhope-Foley, AL & 2015-02-02\\\\\n",
       "\t 01 & 003 & 0010 & 68105 & 1 & 30.498 & -87.88141 & NAD83 & Ambient Temperature & 24 HOUR & ⋯ & NA & 118 & R \\& P Model 2025 PM2.5 Sequent - Electronic & FAIRHOPE, Alabama & FAIRHOPE HIGH SCHOOL, FAIRHOPE,  ALABAMA & Alabama & Baldwin & Fairhope & Daphne-Fairhope-Foley, AL & 2015-02-02\\\\\n",
       "\t 01 & 003 & 0010 & 68105 & 1 & 30.498 & -87.88141 & NAD83 & Ambient Temperature & 24 HOUR & ⋯ & NA & 118 & R \\& P Model 2025 PM2.5 Sequent - Electronic & FAIRHOPE, Alabama & FAIRHOPE HIGH SCHOOL, FAIRHOPE,  ALABAMA & Alabama & Baldwin & Fairhope & Daphne-Fairhope-Foley, AL & 2015-02-02\\\\\n",
       "\t 01 & 003 & 0010 & 68105 & 1 & 30.498 & -87.88141 & NAD83 & Ambient Temperature & 24 HOUR & ⋯ & NA & 118 & R \\& P Model 2025 PM2.5 Sequent - Electronic & FAIRHOPE, Alabama & FAIRHOPE HIGH SCHOOL, FAIRHOPE,  ALABAMA & Alabama & Baldwin & Fairhope & Daphne-Fairhope-Foley, AL & 2015-02-02\\\\\n",
       "\t 01 & 003 & 0010 & 68105 & 1 & 30.498 & -87.88141 & NAD83 & Ambient Temperature & 24 HOUR & ⋯ & NA & 118 & R \\& P Model 2025 PM2.5 Sequent - Electronic & FAIRHOPE, Alabama & FAIRHOPE HIGH SCHOOL, FAIRHOPE,  ALABAMA & Alabama & Baldwin & Fairhope & Daphne-Fairhope-Foley, AL & 2015-02-02\\\\\n",
       "\t 01 & 003 & 0010 & 68105 & 1 & 30.498 & -87.88141 & NAD83 & Ambient Temperature & 24 HOUR & ⋯ & NA & 118 & R \\& P Model 2025 PM2.5 Sequent - Electronic & FAIRHOPE, Alabama & FAIRHOPE HIGH SCHOOL, FAIRHOPE,  ALABAMA & Alabama & Baldwin & Fairhope & Daphne-Fairhope-Foley, AL & 2015-02-02\\\\\n",
       "\t 01 & 003 & 0010 & 68105 & 1 & 30.498 & -87.88141 & NAD83 & Ambient Temperature & 24 HOUR & ⋯ & NA & 118 & R \\& P Model 2025 PM2.5 Sequent - Electronic & FAIRHOPE, Alabama & FAIRHOPE HIGH SCHOOL, FAIRHOPE,  ALABAMA & Alabama & Baldwin & Fairhope & Daphne-Fairhope-Foley, AL & 2015-02-02\\\\\n",
       "\t 01 & 003 & 0010 & 68105 & 1 & 30.498 & -87.88141 & NAD83 & Ambient Temperature & 24 HOUR & ⋯ & NA & 118 & R \\& P Model 2025 PM2.5 Sequent - Electronic & FAIRHOPE, Alabama & FAIRHOPE HIGH SCHOOL, FAIRHOPE,  ALABAMA & Alabama & Baldwin & Fairhope & Daphne-Fairhope-Foley, AL & 2015-02-02\\\\\n",
       "\\end{tabular}\n"
      ],
      "text/markdown": [
       "\n",
       "A tibble: 20 × 29\n",
       "\n",
       "| State Code &lt;chr&gt; | County Code &lt;chr&gt; | Site Num &lt;chr&gt; | Parameter Code &lt;dbl&gt; | POC &lt;dbl&gt; | Latitude &lt;dbl&gt; | Longitude &lt;dbl&gt; | Datum &lt;chr&gt; | Parameter Name &lt;chr&gt; | Sample Duration &lt;chr&gt; | ⋯ ⋯ | AQI &lt;lgl&gt; | Method Code &lt;dbl&gt; | Method Name &lt;chr&gt; | Local Site Name &lt;chr&gt; | Address &lt;chr&gt; | State Name &lt;chr&gt; | County Name &lt;chr&gt; | City Name &lt;chr&gt; | CBSA Name &lt;chr&gt; | Date of Last Change &lt;date&gt; |\n",
       "|---|---|---|---|---|---|---|---|---|---|---|---|---|---|---|---|---|---|---|---|---|\n",
       "| 01 | 003 | 0010 | 68105 | 1 | 30.498 | -87.88141 | NAD83 | Ambient Temperature | 24 HOUR | ⋯ | NA | 118 | R &amp; P Model 2025 PM2.5 Sequent - Electronic | FAIRHOPE, Alabama | FAIRHOPE HIGH SCHOOL, FAIRHOPE,  ALABAMA | Alabama | Baldwin | Fairhope | Daphne-Fairhope-Foley, AL | 2015-02-02 |\n",
       "| 01 | 003 | 0010 | 68105 | 1 | 30.498 | -87.88141 | NAD83 | Ambient Temperature | 24 HOUR | ⋯ | NA | 118 | R &amp; P Model 2025 PM2.5 Sequent - Electronic | FAIRHOPE, Alabama | FAIRHOPE HIGH SCHOOL, FAIRHOPE,  ALABAMA | Alabama | Baldwin | Fairhope | Daphne-Fairhope-Foley, AL | 2015-02-02 |\n",
       "| 01 | 003 | 0010 | 68105 | 1 | 30.498 | -87.88141 | NAD83 | Ambient Temperature | 24 HOUR | ⋯ | NA | 118 | R &amp; P Model 2025 PM2.5 Sequent - Electronic | FAIRHOPE, Alabama | FAIRHOPE HIGH SCHOOL, FAIRHOPE,  ALABAMA | Alabama | Baldwin | Fairhope | Daphne-Fairhope-Foley, AL | 2015-02-02 |\n",
       "| 01 | 003 | 0010 | 68105 | 1 | 30.498 | -87.88141 | NAD83 | Ambient Temperature | 24 HOUR | ⋯ | NA | 118 | R &amp; P Model 2025 PM2.5 Sequent - Electronic | FAIRHOPE, Alabama | FAIRHOPE HIGH SCHOOL, FAIRHOPE,  ALABAMA | Alabama | Baldwin | Fairhope | Daphne-Fairhope-Foley, AL | 2015-02-02 |\n",
       "| 01 | 003 | 0010 | 68105 | 1 | 30.498 | -87.88141 | NAD83 | Ambient Temperature | 24 HOUR | ⋯ | NA | 118 | R &amp; P Model 2025 PM2.5 Sequent - Electronic | FAIRHOPE, Alabama | FAIRHOPE HIGH SCHOOL, FAIRHOPE,  ALABAMA | Alabama | Baldwin | Fairhope | Daphne-Fairhope-Foley, AL | 2015-02-02 |\n",
       "| 01 | 003 | 0010 | 68105 | 1 | 30.498 | -87.88141 | NAD83 | Ambient Temperature | 24 HOUR | ⋯ | NA | 118 | R &amp; P Model 2025 PM2.5 Sequent - Electronic | FAIRHOPE, Alabama | FAIRHOPE HIGH SCHOOL, FAIRHOPE,  ALABAMA | Alabama | Baldwin | Fairhope | Daphne-Fairhope-Foley, AL | 2015-02-02 |\n",
       "| 01 | 003 | 0010 | 68105 | 1 | 30.498 | -87.88141 | NAD83 | Ambient Temperature | 24 HOUR | ⋯ | NA | 118 | R &amp; P Model 2025 PM2.5 Sequent - Electronic | FAIRHOPE, Alabama | FAIRHOPE HIGH SCHOOL, FAIRHOPE,  ALABAMA | Alabama | Baldwin | Fairhope | Daphne-Fairhope-Foley, AL | 2015-02-02 |\n",
       "| 01 | 003 | 0010 | 68105 | 1 | 30.498 | -87.88141 | NAD83 | Ambient Temperature | 24 HOUR | ⋯ | NA | 118 | R &amp; P Model 2025 PM2.5 Sequent - Electronic | FAIRHOPE, Alabama | FAIRHOPE HIGH SCHOOL, FAIRHOPE,  ALABAMA | Alabama | Baldwin | Fairhope | Daphne-Fairhope-Foley, AL | 2015-02-02 |\n",
       "| 01 | 003 | 0010 | 68105 | 1 | 30.498 | -87.88141 | NAD83 | Ambient Temperature | 24 HOUR | ⋯ | NA | 118 | R &amp; P Model 2025 PM2.5 Sequent - Electronic | FAIRHOPE, Alabama | FAIRHOPE HIGH SCHOOL, FAIRHOPE,  ALABAMA | Alabama | Baldwin | Fairhope | Daphne-Fairhope-Foley, AL | 2015-02-02 |\n",
       "| 01 | 003 | 0010 | 68105 | 1 | 30.498 | -87.88141 | NAD83 | Ambient Temperature | 24 HOUR | ⋯ | NA | 118 | R &amp; P Model 2025 PM2.5 Sequent - Electronic | FAIRHOPE, Alabama | FAIRHOPE HIGH SCHOOL, FAIRHOPE,  ALABAMA | Alabama | Baldwin | Fairhope | Daphne-Fairhope-Foley, AL | 2015-02-02 |\n",
       "| 01 | 003 | 0010 | 68105 | 1 | 30.498 | -87.88141 | NAD83 | Ambient Temperature | 24 HOUR | ⋯ | NA | 118 | R &amp; P Model 2025 PM2.5 Sequent - Electronic | FAIRHOPE, Alabama | FAIRHOPE HIGH SCHOOL, FAIRHOPE,  ALABAMA | Alabama | Baldwin | Fairhope | Daphne-Fairhope-Foley, AL | 2015-02-02 |\n",
       "| 01 | 003 | 0010 | 68105 | 1 | 30.498 | -87.88141 | NAD83 | Ambient Temperature | 24 HOUR | ⋯ | NA | 118 | R &amp; P Model 2025 PM2.5 Sequent - Electronic | FAIRHOPE, Alabama | FAIRHOPE HIGH SCHOOL, FAIRHOPE,  ALABAMA | Alabama | Baldwin | Fairhope | Daphne-Fairhope-Foley, AL | 2015-02-02 |\n",
       "| 01 | 003 | 0010 | 68105 | 1 | 30.498 | -87.88141 | NAD83 | Ambient Temperature | 24 HOUR | ⋯ | NA | 118 | R &amp; P Model 2025 PM2.5 Sequent - Electronic | FAIRHOPE, Alabama | FAIRHOPE HIGH SCHOOL, FAIRHOPE,  ALABAMA | Alabama | Baldwin | Fairhope | Daphne-Fairhope-Foley, AL | 2015-02-02 |\n",
       "| 01 | 003 | 0010 | 68105 | 1 | 30.498 | -87.88141 | NAD83 | Ambient Temperature | 24 HOUR | ⋯ | NA | 118 | R &amp; P Model 2025 PM2.5 Sequent - Electronic | FAIRHOPE, Alabama | FAIRHOPE HIGH SCHOOL, FAIRHOPE,  ALABAMA | Alabama | Baldwin | Fairhope | Daphne-Fairhope-Foley, AL | 2015-02-02 |\n",
       "| 01 | 003 | 0010 | 68105 | 1 | 30.498 | -87.88141 | NAD83 | Ambient Temperature | 24 HOUR | ⋯ | NA | 118 | R &amp; P Model 2025 PM2.5 Sequent - Electronic | FAIRHOPE, Alabama | FAIRHOPE HIGH SCHOOL, FAIRHOPE,  ALABAMA | Alabama | Baldwin | Fairhope | Daphne-Fairhope-Foley, AL | 2015-02-02 |\n",
       "| 01 | 003 | 0010 | 68105 | 1 | 30.498 | -87.88141 | NAD83 | Ambient Temperature | 24 HOUR | ⋯ | NA | 118 | R &amp; P Model 2025 PM2.5 Sequent - Electronic | FAIRHOPE, Alabama | FAIRHOPE HIGH SCHOOL, FAIRHOPE,  ALABAMA | Alabama | Baldwin | Fairhope | Daphne-Fairhope-Foley, AL | 2015-02-02 |\n",
       "| 01 | 003 | 0010 | 68105 | 1 | 30.498 | -87.88141 | NAD83 | Ambient Temperature | 24 HOUR | ⋯ | NA | 118 | R &amp; P Model 2025 PM2.5 Sequent - Electronic | FAIRHOPE, Alabama | FAIRHOPE HIGH SCHOOL, FAIRHOPE,  ALABAMA | Alabama | Baldwin | Fairhope | Daphne-Fairhope-Foley, AL | 2015-02-02 |\n",
       "| 01 | 003 | 0010 | 68105 | 1 | 30.498 | -87.88141 | NAD83 | Ambient Temperature | 24 HOUR | ⋯ | NA | 118 | R &amp; P Model 2025 PM2.5 Sequent - Electronic | FAIRHOPE, Alabama | FAIRHOPE HIGH SCHOOL, FAIRHOPE,  ALABAMA | Alabama | Baldwin | Fairhope | Daphne-Fairhope-Foley, AL | 2015-02-02 |\n",
       "| 01 | 003 | 0010 | 68105 | 1 | 30.498 | -87.88141 | NAD83 | Ambient Temperature | 24 HOUR | ⋯ | NA | 118 | R &amp; P Model 2025 PM2.5 Sequent - Electronic | FAIRHOPE, Alabama | FAIRHOPE HIGH SCHOOL, FAIRHOPE,  ALABAMA | Alabama | Baldwin | Fairhope | Daphne-Fairhope-Foley, AL | 2015-02-02 |\n",
       "| 01 | 003 | 0010 | 68105 | 1 | 30.498 | -87.88141 | NAD83 | Ambient Temperature | 24 HOUR | ⋯ | NA | 118 | R &amp; P Model 2025 PM2.5 Sequent - Electronic | FAIRHOPE, Alabama | FAIRHOPE HIGH SCHOOL, FAIRHOPE,  ALABAMA | Alabama | Baldwin | Fairhope | Daphne-Fairhope-Foley, AL | 2015-02-02 |\n",
       "\n"
      ],
      "text/plain": [
       "   State Code County Code Site Num Parameter Code POC Latitude Longitude Datum\n",
       "1  01         003         0010     68105          1   30.498   -87.88141 NAD83\n",
       "2  01         003         0010     68105          1   30.498   -87.88141 NAD83\n",
       "3  01         003         0010     68105          1   30.498   -87.88141 NAD83\n",
       "4  01         003         0010     68105          1   30.498   -87.88141 NAD83\n",
       "5  01         003         0010     68105          1   30.498   -87.88141 NAD83\n",
       "6  01         003         0010     68105          1   30.498   -87.88141 NAD83\n",
       "7  01         003         0010     68105          1   30.498   -87.88141 NAD83\n",
       "8  01         003         0010     68105          1   30.498   -87.88141 NAD83\n",
       "9  01         003         0010     68105          1   30.498   -87.88141 NAD83\n",
       "10 01         003         0010     68105          1   30.498   -87.88141 NAD83\n",
       "11 01         003         0010     68105          1   30.498   -87.88141 NAD83\n",
       "12 01         003         0010     68105          1   30.498   -87.88141 NAD83\n",
       "13 01         003         0010     68105          1   30.498   -87.88141 NAD83\n",
       "14 01         003         0010     68105          1   30.498   -87.88141 NAD83\n",
       "15 01         003         0010     68105          1   30.498   -87.88141 NAD83\n",
       "16 01         003         0010     68105          1   30.498   -87.88141 NAD83\n",
       "17 01         003         0010     68105          1   30.498   -87.88141 NAD83\n",
       "18 01         003         0010     68105          1   30.498   -87.88141 NAD83\n",
       "19 01         003         0010     68105          1   30.498   -87.88141 NAD83\n",
       "20 01         003         0010     68105          1   30.498   -87.88141 NAD83\n",
       "   Parameter Name      Sample Duration ⋯ AQI Method Code\n",
       "1  Ambient Temperature 24 HOUR         ⋯ NA  118        \n",
       "2  Ambient Temperature 24 HOUR         ⋯ NA  118        \n",
       "3  Ambient Temperature 24 HOUR         ⋯ NA  118        \n",
       "4  Ambient Temperature 24 HOUR         ⋯ NA  118        \n",
       "5  Ambient Temperature 24 HOUR         ⋯ NA  118        \n",
       "6  Ambient Temperature 24 HOUR         ⋯ NA  118        \n",
       "7  Ambient Temperature 24 HOUR         ⋯ NA  118        \n",
       "8  Ambient Temperature 24 HOUR         ⋯ NA  118        \n",
       "9  Ambient Temperature 24 HOUR         ⋯ NA  118        \n",
       "10 Ambient Temperature 24 HOUR         ⋯ NA  118        \n",
       "11 Ambient Temperature 24 HOUR         ⋯ NA  118        \n",
       "12 Ambient Temperature 24 HOUR         ⋯ NA  118        \n",
       "13 Ambient Temperature 24 HOUR         ⋯ NA  118        \n",
       "14 Ambient Temperature 24 HOUR         ⋯ NA  118        \n",
       "15 Ambient Temperature 24 HOUR         ⋯ NA  118        \n",
       "16 Ambient Temperature 24 HOUR         ⋯ NA  118        \n",
       "17 Ambient Temperature 24 HOUR         ⋯ NA  118        \n",
       "18 Ambient Temperature 24 HOUR         ⋯ NA  118        \n",
       "19 Ambient Temperature 24 HOUR         ⋯ NA  118        \n",
       "20 Ambient Temperature 24 HOUR         ⋯ NA  118        \n",
       "   Method Name                                 Local Site Name  \n",
       "1  R & P Model 2025 PM2.5 Sequent - Electronic FAIRHOPE, Alabama\n",
       "2  R & P Model 2025 PM2.5 Sequent - Electronic FAIRHOPE, Alabama\n",
       "3  R & P Model 2025 PM2.5 Sequent - Electronic FAIRHOPE, Alabama\n",
       "4  R & P Model 2025 PM2.5 Sequent - Electronic FAIRHOPE, Alabama\n",
       "5  R & P Model 2025 PM2.5 Sequent - Electronic FAIRHOPE, Alabama\n",
       "6  R & P Model 2025 PM2.5 Sequent - Electronic FAIRHOPE, Alabama\n",
       "7  R & P Model 2025 PM2.5 Sequent - Electronic FAIRHOPE, Alabama\n",
       "8  R & P Model 2025 PM2.5 Sequent - Electronic FAIRHOPE, Alabama\n",
       "9  R & P Model 2025 PM2.5 Sequent - Electronic FAIRHOPE, Alabama\n",
       "10 R & P Model 2025 PM2.5 Sequent - Electronic FAIRHOPE, Alabama\n",
       "11 R & P Model 2025 PM2.5 Sequent - Electronic FAIRHOPE, Alabama\n",
       "12 R & P Model 2025 PM2.5 Sequent - Electronic FAIRHOPE, Alabama\n",
       "13 R & P Model 2025 PM2.5 Sequent - Electronic FAIRHOPE, Alabama\n",
       "14 R & P Model 2025 PM2.5 Sequent - Electronic FAIRHOPE, Alabama\n",
       "15 R & P Model 2025 PM2.5 Sequent - Electronic FAIRHOPE, Alabama\n",
       "16 R & P Model 2025 PM2.5 Sequent - Electronic FAIRHOPE, Alabama\n",
       "17 R & P Model 2025 PM2.5 Sequent - Electronic FAIRHOPE, Alabama\n",
       "18 R & P Model 2025 PM2.5 Sequent - Electronic FAIRHOPE, Alabama\n",
       "19 R & P Model 2025 PM2.5 Sequent - Electronic FAIRHOPE, Alabama\n",
       "20 R & P Model 2025 PM2.5 Sequent - Electronic FAIRHOPE, Alabama\n",
       "   Address                                  State Name County Name City Name\n",
       "1  FAIRHOPE HIGH SCHOOL, FAIRHOPE,  ALABAMA Alabama    Baldwin     Fairhope \n",
       "2  FAIRHOPE HIGH SCHOOL, FAIRHOPE,  ALABAMA Alabama    Baldwin     Fairhope \n",
       "3  FAIRHOPE HIGH SCHOOL, FAIRHOPE,  ALABAMA Alabama    Baldwin     Fairhope \n",
       "4  FAIRHOPE HIGH SCHOOL, FAIRHOPE,  ALABAMA Alabama    Baldwin     Fairhope \n",
       "5  FAIRHOPE HIGH SCHOOL, FAIRHOPE,  ALABAMA Alabama    Baldwin     Fairhope \n",
       "6  FAIRHOPE HIGH SCHOOL, FAIRHOPE,  ALABAMA Alabama    Baldwin     Fairhope \n",
       "7  FAIRHOPE HIGH SCHOOL, FAIRHOPE,  ALABAMA Alabama    Baldwin     Fairhope \n",
       "8  FAIRHOPE HIGH SCHOOL, FAIRHOPE,  ALABAMA Alabama    Baldwin     Fairhope \n",
       "9  FAIRHOPE HIGH SCHOOL, FAIRHOPE,  ALABAMA Alabama    Baldwin     Fairhope \n",
       "10 FAIRHOPE HIGH SCHOOL, FAIRHOPE,  ALABAMA Alabama    Baldwin     Fairhope \n",
       "11 FAIRHOPE HIGH SCHOOL, FAIRHOPE,  ALABAMA Alabama    Baldwin     Fairhope \n",
       "12 FAIRHOPE HIGH SCHOOL, FAIRHOPE,  ALABAMA Alabama    Baldwin     Fairhope \n",
       "13 FAIRHOPE HIGH SCHOOL, FAIRHOPE,  ALABAMA Alabama    Baldwin     Fairhope \n",
       "14 FAIRHOPE HIGH SCHOOL, FAIRHOPE,  ALABAMA Alabama    Baldwin     Fairhope \n",
       "15 FAIRHOPE HIGH SCHOOL, FAIRHOPE,  ALABAMA Alabama    Baldwin     Fairhope \n",
       "16 FAIRHOPE HIGH SCHOOL, FAIRHOPE,  ALABAMA Alabama    Baldwin     Fairhope \n",
       "17 FAIRHOPE HIGH SCHOOL, FAIRHOPE,  ALABAMA Alabama    Baldwin     Fairhope \n",
       "18 FAIRHOPE HIGH SCHOOL, FAIRHOPE,  ALABAMA Alabama    Baldwin     Fairhope \n",
       "19 FAIRHOPE HIGH SCHOOL, FAIRHOPE,  ALABAMA Alabama    Baldwin     Fairhope \n",
       "20 FAIRHOPE HIGH SCHOOL, FAIRHOPE,  ALABAMA Alabama    Baldwin     Fairhope \n",
       "   CBSA Name                 Date of Last Change\n",
       "1  Daphne-Fairhope-Foley, AL 2015-02-02         \n",
       "2  Daphne-Fairhope-Foley, AL 2015-02-02         \n",
       "3  Daphne-Fairhope-Foley, AL 2015-02-02         \n",
       "4  Daphne-Fairhope-Foley, AL 2015-02-02         \n",
       "5  Daphne-Fairhope-Foley, AL 2015-02-02         \n",
       "6  Daphne-Fairhope-Foley, AL 2015-02-02         \n",
       "7  Daphne-Fairhope-Foley, AL 2015-02-02         \n",
       "8  Daphne-Fairhope-Foley, AL 2015-02-02         \n",
       "9  Daphne-Fairhope-Foley, AL 2015-02-02         \n",
       "10 Daphne-Fairhope-Foley, AL 2015-02-02         \n",
       "11 Daphne-Fairhope-Foley, AL 2015-02-02         \n",
       "12 Daphne-Fairhope-Foley, AL 2015-02-02         \n",
       "13 Daphne-Fairhope-Foley, AL 2015-02-02         \n",
       "14 Daphne-Fairhope-Foley, AL 2015-02-02         \n",
       "15 Daphne-Fairhope-Foley, AL 2015-02-02         \n",
       "16 Daphne-Fairhope-Foley, AL 2015-02-02         \n",
       "17 Daphne-Fairhope-Foley, AL 2015-02-02         \n",
       "18 Daphne-Fairhope-Foley, AL 2015-02-02         \n",
       "19 Daphne-Fairhope-Foley, AL 2015-02-02         \n",
       "20 Daphne-Fairhope-Foley, AL 2015-02-02         "
      ]
     },
     "metadata": {},
     "output_type": "display_data"
    }
   ],
   "source": [
    "# Load the dataset:\n",
    "part_matter <- suppressMessages(read_csv(\"daily_SPEC_2014.csv.bz2\"))\n",
    "\n",
    "# Print the first 20 rows:\n",
    "head(part_matter, 20L)"
   ]
  },
  {
   "cell_type": "markdown",
   "metadata": {},
   "source": [
    "## Question 1\n",
    "\n",
    "What is the average \"Arithmetic Mean\" for \"Bromine PM2.5 LC\" in the state of Wisconsin?\n"
   ]
  },
  {
   "cell_type": "code",
   "execution_count": 3,
   "metadata": {
    "lines_to_next_cell": 2
   },
   "outputs": [
    {
     "name": "stdout",
     "output_type": "stream",
     "text": [
      "Average = 0.003960\n"
     ]
    }
   ],
   "source": [
    "# Compute the desired average:\n",
    "amean <- part_matter[\"Arithmetic Mean\"]\n",
    "fltr_pname <- part_matter[\"Parameter Name\"] == \"Bromine PM2.5 LC\"\n",
    "fltr_state <- part_matter[\"State Name\"] == \"Wisconsin\"\n",
    "avg_lvl <- mean(amean[fltr_pname & fltr_state], na.rm = TRUE)\n",
    "printf(\"Average = %.6f\\n\", avg_lvl)"
   ]
  },
  {
   "cell_type": "markdown",
   "metadata": {},
   "source": [
    "## Question 2\n",
    "\n",
    "Which constituent \"Parameter Name\" has the highest average level?\n"
   ]
  },
  {
   "cell_type": "code",
   "execution_count": 4,
   "metadata": {
    "lines_to_next_cell": 2
   },
   "outputs": [
    {
     "name": "stdout",
     "output_type": "stream",
     "text": [
      "Constituent with the highest average level = OC CSN Unadjusted PM2.5 LC TOT\n"
     ]
    }
   ],
   "source": [
    "# Use the column \"Parameter Name\" to group the data:\n",
    "by_pname <- group_by_at(part_matter, vars(\"Parameter Name\"))\n",
    "\n",
    "# Compute the average level for each group:\n",
    "avg_lvl <- summarise_at(by_pname, vars(\"Arithmetic Mean\"), mean, na.rm = TRUE)\n",
    "\n",
    "pname <- pull(avg_lvl, 1)\n",
    "avlvl <- pull(avg_lvl, 2)\n",
    "\n",
    "# Constituent with the highest average level:\n",
    "const <- pname[avlvl == max(avlvl[grepl(\"PM2.5\", pname)])]\n",
    "printf(\"Constituent with the highest average level = %s\\n\", const)"
   ]
  },
  {
   "cell_type": "markdown",
   "metadata": {},
   "source": [
    "## Question 3\n",
    "\n",
    "Which monitoring site has the highest average level of \"Sulfate PM2.5 LC\"\n",
    "across all time?\n"
   ]
  },
  {
   "cell_type": "code",
   "execution_count": 5,
   "metadata": {
    "lines_to_next_cell": 2
   },
   "outputs": [
    {
     "name": "stdout",
     "output_type": "stream",
     "text": [
      "Monitoring site with the highest average level:\n",
      "State Code  - 39\n",
      "County Code - 081\n",
      "Site Num    - 0017\n"
     ]
    }
   ],
   "source": [
    "# Use the columns \"State Code\", \"County Code\" and \"Site Num\" to group the data:\n",
    "by_msite <- group_by_at(part_matter, vars(\"State Code\", \"County Code\", \"Site Num\"))\n",
    "\n",
    "# Extract the data corresponding to \"Sulfate PM2.5 LC\":\n",
    "by_msite_sulf <- filter_at(by_msite, vars(\"Parameter Name\"), ~ .x == \"Sulfate PM2.5 LC\")\n",
    "\n",
    "# Compute the average level for each group:\n",
    "avg_lvl <- summarise_at(by_msite_sulf, vars(\"Arithmetic Mean\"), mean, na.rm = TRUE)\n",
    "\n",
    "# Monitoring site with the highest average level:\n",
    "tmp <- filter_at(avg_lvl, vars(\"Arithmetic Mean\"), ~ .x == max(avg_lvl[\"Arithmetic Mean\"]))\n",
    "printf(\"Monitoring site with the highest average level:\\n\")\n",
    "printf(\"State Code  - %s\\n\", pull(tmp, 1))\n",
    "printf(\"County Code - %s\\n\", pull(tmp, 2))\n",
    "printf(\"Site Num    - %s\\n\", pull(tmp, 3))"
   ]
  },
  {
   "cell_type": "markdown",
   "metadata": {},
   "source": [
    "## Question 4\n",
    "\n",
    "What is the absolute difference in the average levels of \"EC PM2.5 LC TOR\"\n",
    "between the states California and Arizona, across all time and all monitoring\n",
    "sites?\n"
   ]
  },
  {
   "cell_type": "code",
   "execution_count": 6,
   "metadata": {
    "lines_to_next_cell": 2
   },
   "outputs": [
    {
     "name": "stdout",
     "output_type": "stream",
     "text": [
      "Absolute difference = 0.018567\n"
     ]
    }
   ],
   "source": [
    "fltr_pname <- part_matter[\"Parameter Name\"] == \"EC PM2.5 LC TOR\"\n",
    "\n",
    "# Compute the average level for Arizona:\n",
    "fltr_state <- part_matter[\"State Name\"] == \"Arizona\"\n",
    "avg_lvl_az <- mean(amean[fltr_pname & fltr_state], na.rm = TRUE)\n",
    "\n",
    "# Compute the average level for California:\n",
    "fltr_state <- part_matter[\"State Name\"] == \"California\"\n",
    "avg_lvl_ca <- mean(amean[fltr_pname & fltr_state], na.rm = TRUE)\n",
    "\n",
    "# Compute the absolute difference:\n",
    "abs_diff <- abs(avg_lvl_az - avg_lvl_ca)\n",
    "printf(\"Absolute difference = %.6f\\n\", abs_diff)"
   ]
  },
  {
   "cell_type": "markdown",
   "metadata": {},
   "source": [
    "## Question 5\n",
    "\n",
    "What is the median level of \"OC PM2.5 LC TOR\" in the western United States,\n",
    "across all time? Define western as any monitoring location that has a longitude\n",
    "less than -100.\n"
   ]
  },
  {
   "cell_type": "code",
   "execution_count": 7,
   "metadata": {
    "lines_to_next_cell": 2
   },
   "outputs": [
    {
     "name": "stdout",
     "output_type": "stream",
     "text": [
      "Median level = 0.4300\n"
     ]
    }
   ],
   "source": [
    "# Compute the median level:\n",
    "fltr_long <- part_matter[\"Longitude\"] < -100\n",
    "fltr_pname <- part_matter[\"Parameter Name\"] == \"OC PM2.5 LC TOR\"\n",
    "median_lvl <- median(amean[fltr_long & fltr_pname], na.rm = TRUE)\n",
    "printf(\"Median level = %.4f\\n\", median_lvl)"
   ]
  },
  {
   "cell_type": "markdown",
   "metadata": {},
   "source": [
    "## Second Dataset\n"
   ]
  },
  {
   "cell_type": "code",
   "execution_count": 8,
   "metadata": {
    "lines_to_next_cell": 2
   },
   "outputs": [
    {
     "data": {
      "text/html": [
       "<table>\n",
       "<caption>A tibble: 20 × 28</caption>\n",
       "<thead>\n",
       "\t<tr><th scope=col>State Code</th><th scope=col>County Code</th><th scope=col>Site Number</th><th scope=col>Latitude</th><th scope=col>Longitude</th><th scope=col>Datum</th><th scope=col>Elevation</th><th scope=col>Land Use</th><th scope=col>Location Setting</th><th scope=col>Site Established Date</th><th scope=col>⋯</th><th scope=col>Owning Agency</th><th scope=col>Local Site Name</th><th scope=col>Address</th><th scope=col>Zip Code</th><th scope=col>State Name</th><th scope=col>County Name</th><th scope=col>City Name</th><th scope=col>CBSA Name</th><th scope=col>Tribe Name</th><th scope=col>Extraction Date</th></tr>\n",
       "\t<tr><th scope=col>&lt;chr&gt;</th><th scope=col>&lt;chr&gt;</th><th scope=col>&lt;chr&gt;</th><th scope=col>&lt;dbl&gt;</th><th scope=col>&lt;dbl&gt;</th><th scope=col>&lt;chr&gt;</th><th scope=col>&lt;dbl&gt;</th><th scope=col>&lt;chr&gt;</th><th scope=col>&lt;chr&gt;</th><th scope=col>&lt;dttm&gt;</th><th scope=col>⋯</th><th scope=col>&lt;chr&gt;</th><th scope=col>&lt;chr&gt;</th><th scope=col>&lt;chr&gt;</th><th scope=col>&lt;dbl&gt;</th><th scope=col>&lt;chr&gt;</th><th scope=col>&lt;chr&gt;</th><th scope=col>&lt;chr&gt;</th><th scope=col>&lt;chr&gt;</th><th scope=col>&lt;chr&gt;</th><th scope=col>&lt;dttm&gt;</th></tr>\n",
       "</thead>\n",
       "<tbody>\n",
       "\t<tr><td>1</td><td>1 </td><td>1 </td><td>32.43746</td><td>-86.47289</td><td>WGS84</td><td> 64.00</td><td>RESIDENTIAL </td><td>SUBURBAN             </td><td>1974-05-01</td><td>⋯</td><td>Al Dept Of Env  Mgt                           </td><td>NA               </td><td>KING ARTHUR TRAILER COURT, PRATTVILLE,AL</td><td>36067</td><td>Alabama</td><td>Autauga</td><td>Prattville               </td><td>Montgomery, AL                  </td><td>NA</td><td>2016-07-07</td></tr>\n",
       "\t<tr><td>1</td><td>1 </td><td>2 </td><td>32.42833</td><td>-86.44361</td><td>NAD27</td><td>  0.00</td><td>AGRICULTURAL</td><td>RURAL                </td><td>1980-01-01</td><td>⋯</td><td>Al Dept Of Env  Mgt                           </td><td>NA               </td><td>COUNTY RD 4 PRATTVILLE EXPERIMENT ST    </td><td>   NA</td><td>Alabama</td><td>Autauga</td><td>Prattville               </td><td>Montgomery, AL                  </td><td>NA</td><td>2016-07-07</td></tr>\n",
       "\t<tr><td>1</td><td>1 </td><td>3 </td><td>32.33266</td><td>-86.79152</td><td>WGS84</td><td> 41.00</td><td>FOREST      </td><td>RURAL                </td><td>1989-08-31</td><td>⋯</td><td>Al Dept Of Env  Mgt                           </td><td>NA               </td><td>1170 COUNTY RD.15 SO., SELMA, AL. 36701 </td><td>36003</td><td>Alabama</td><td>Autauga</td><td>Not in a City            </td><td>Montgomery, AL                  </td><td>NA</td><td>2016-07-07</td></tr>\n",
       "\t<tr><td>1</td><td>3 </td><td>1 </td><td> 0.00000</td><td>  0.00000</td><td>NAD27</td><td>  0.00</td><td>UNKNOWN     </td><td>RURAL                </td><td>1959-01-01</td><td>⋯</td><td>US EPA National Exposure Research Lab         </td><td>NA               </td><td>CHANDLER RESIDENCE FT MORGAN STATE PARK </td><td>   NA</td><td>Alabama</td><td>Baldwin</td><td>Not in a city            </td><td>Daphne-Fairhope-Foley, AL       </td><td>NA</td><td>2016-07-07</td></tr>\n",
       "\t<tr><td>1</td><td>3 </td><td>2 </td><td>30.55237</td><td>-87.70691</td><td>WGS84</td><td><span style=white-space:pre-wrap>  0.00</span></td><td><span style=white-space:pre-wrap>COMMERCIAL  </span></td><td><span style=white-space:pre-wrap>RURAL                </span></td><td>1974-01-01</td><td>⋯</td><td><span style=white-space:pre-wrap>Al Dept Of Env  Mgt                           </span></td><td><span style=white-space:pre-wrap>NA               </span></td><td>COR PENNSYLVANIA &amp; CHICAGO (ROBERTSDALE)</td><td>36567</td><td>Alabama</td><td>Baldwin</td><td><span style=white-space:pre-wrap>Robertsdale              </span></td><td><span style=white-space:pre-wrap>Daphne-Fairhope-Foley, AL       </span></td><td>NA</td><td>2016-07-07</td></tr>\n",
       "\t<tr><td>1</td><td>3 </td><td>3 </td><td>30.55528</td><td>-87.71361</td><td>NAD27</td><td> 49.00</td><td>COMMERCIAL  </td><td>URBAN AND CENTER CITY</td><td>1977-08-12</td><td>⋯</td><td>Al Dept Of Env  Mgt                           </td><td>NA               </td><td>RACINE AND MICHIGAN ST, ROBERTSDALE, AL.</td><td>   NA</td><td>Alabama</td><td>Baldwin</td><td>Not in a city            </td><td>Daphne-Fairhope-Foley, AL       </td><td>NA</td><td>2016-07-07</td></tr>\n",
       "\t<tr><td>1</td><td>3 </td><td>10</td><td>30.49800</td><td>-87.88141</td><td>NAD83</td><td> 37.19</td><td>COMMERCIAL  </td><td>SUBURBAN             </td><td>2000-01-01</td><td>⋯</td><td>Al Dept Of Env  Mgt                           </td><td>FAIRHOPE, Alabama</td><td>FAIRHOPE HIGH SCHOOL, FAIRHOPE,  ALABAMA</td><td>36532</td><td>Alabama</td><td>Baldwin</td><td>Fairhope                 </td><td>Daphne-Fairhope-Foley, AL       </td><td>NA</td><td>2016-07-07</td></tr>\n",
       "\t<tr><td>1</td><td>5 </td><td>1 </td><td>31.89111</td><td>-85.13528</td><td>NAD27</td><td> 85.00</td><td>COMMERCIAL  </td><td>SUBURBAN             </td><td>1974-01-01</td><td>⋯</td><td>Al Dept Of Env  Mgt                           </td><td>NA               </td><td>601 EAST BARBOUR US HGWY 82             </td><td>   NA</td><td>Alabama</td><td>Barbour</td><td>Eufaula                  </td><td>Eufaula, AL-GA                  </td><td>NA</td><td>2016-07-07</td></tr>\n",
       "\t<tr><td>1</td><td>5 </td><td>2 </td><td>31.66414</td><td>-85.60623</td><td>NAD27</td><td>143.26</td><td>FOREST      </td><td>SUBURBAN             </td><td>2003-10-06</td><td>⋯</td><td>Al Dept Of Env  Mgt                           </td><td>CLIO             </td><td>437 COUNTY ROAD 8, CLIO, ALABAMA        </td><td>   NA</td><td>Alabama</td><td>Barbour</td><td>Not in a city            </td><td>Eufaula, AL-GA                  </td><td>NA</td><td>2016-07-07</td></tr>\n",
       "\t<tr><td>1</td><td>7 </td><td>1 </td><td>32.90405</td><td>-87.23306</td><td>WGS84</td><td>445.00</td><td>AGRICULTURAL</td><td><span style=white-space:pre-wrap>RURAL                </span></td><td>1991-07-15</td><td>⋯</td><td>Environmental Science &amp; Engineering, Inc (Ese)</td><td><span style=white-space:pre-wrap>NA               </span></td><td>11.8 KM SW OF CENTREVILLE ON CNTY RD 25.</td><td>35034</td><td>Alabama</td><td><span style=white-space:pre-wrap>Bibb   </span></td><td>Centreville (Centerville)</td><td><span style=white-space:pre-wrap>Birmingham-Hoover, AL           </span></td><td>NA</td><td>2016-07-07</td></tr>\n",
       "\t<tr><td>1</td><td>9 </td><td>1 </td><td>33.95702</td><td>-86.46444</td><td>WGS84</td><td>250.00</td><td>MOBILE      </td><td>URBAN AND CENTER CITY</td><td>1957-01-01</td><td>⋯</td><td>Al Dept Of Env  Mgt                           </td><td>NA               </td><td>COUNTY HEALTH DEPT 1002 2ND AVE EAST    </td><td>35121</td><td>Alabama</td><td>Blount </td><td>Oneonta                  </td><td>Birmingham-Hoover, AL           </td><td>NA</td><td>2016-07-07</td></tr>\n",
       "\t<tr><td>1</td><td>9 </td><td>2 </td><td>33.94944</td><td>-86.47306</td><td>NAD27</td><td><span style=white-space:pre-wrap>  6.00</span></td><td><span style=white-space:pre-wrap>COMMERCIAL  </span></td><td>URBAN AND CENTER CITY</td><td>1979-01-01</td><td>⋯</td><td><span style=white-space:pre-wrap>Al Dept Of Env  Mgt                           </span></td><td><span style=white-space:pre-wrap>NA               </span></td><td><span style=white-space:pre-wrap>5TH E &amp; 4TH ST NORTH                    </span></td><td><span style=white-space:pre-wrap>   NA</span></td><td>Alabama</td><td>Blount </td><td><span style=white-space:pre-wrap>Oneonta                  </span></td><td><span style=white-space:pre-wrap>Birmingham-Hoover, AL           </span></td><td>NA</td><td>2016-07-07</td></tr>\n",
       "\t<tr><td>1</td><td>15</td><td>1 </td><td>33.65667</td><td>-85.82444</td><td>NAD27</td><td>237.00</td><td>COMMERCIAL  </td><td>URBAN AND CENTER CITY</td><td>1972-01-01</td><td>⋯</td><td>Al Dept Of Env  Mgt                           </td><td>NA               </td><td>309 EAST 8TH STREET                     </td><td>   NA</td><td>Alabama</td><td>Calhoun</td><td>Anniston                 </td><td>Anniston-Oxford-Jacksonville, AL</td><td>NA</td><td>2016-07-07</td></tr>\n",
       "\t<tr><td>1</td><td>15</td><td>2 </td><td>33.68556</td><td>-85.83778</td><td>NAD27</td><td>247.00</td><td>INDUSTRIAL  </td><td>SUBURBAN             </td><td>1974-05-03</td><td>⋯</td><td>Al Dept Of Env  Mgt                           </td><td>NA               </td><td>BLUE MTN POST OFFICE                    </td><td>   NA</td><td>Alabama</td><td>Calhoun</td><td>Anniston                 </td><td>Anniston-Oxford-Jacksonville, AL</td><td>NA</td><td>2016-07-07</td></tr>\n",
       "\t<tr><td>1</td><td>21</td><td>1 </td><td>32.83956</td><td>-86.63781</td><td>WGS84</td><td>213.00</td><td>RESIDENTIAL </td><td>SUBURBAN             </td><td>1972-01-01</td><td>⋯</td><td>Al Dept Of Env  Mgt                           </td><td>NA               </td><td>112 AUGUSTA STREET                      </td><td>35045</td><td>Alabama</td><td>Chilton</td><td>Clanton                  </td><td>Birmingham-Hoover, AL           </td><td>NA</td><td>2016-07-07</td></tr>\n",
       "\t<tr><td>1</td><td>21</td><td>2 </td><td>32.83944</td><td>-86.62889</td><td>NAD27</td><td>171.00</td><td><span style=white-space:pre-wrap>COMMERCIAL  </span></td><td>URBAN AND CENTER CITY</td><td>1976-01-01</td><td>⋯</td><td><span style=white-space:pre-wrap>Al Dept Of Env  Mgt                           </span></td><td><span style=white-space:pre-wrap>NA               </span></td><td><span style=white-space:pre-wrap>1ST AVE &amp; 5TH AVE                       </span></td><td><span style=white-space:pre-wrap>   NA</span></td><td>Alabama</td><td>Chilton</td><td><span style=white-space:pre-wrap>Clanton                  </span></td><td><span style=white-space:pre-wrap>Birmingham-Hoover, AL           </span></td><td>NA</td><td>2016-07-07</td></tr>\n",
       "\t<tr><td>1</td><td>23</td><td>1 </td><td>32.20917</td><td>-88.05194</td><td>NAD27</td><td> 39.00</td><td>INDUSTRIAL  </td><td>RURAL                </td><td>1974-01-01</td><td>⋯</td><td>Al Dept Of Env  Mgt                           </td><td>NA               </td><td>P.O. BOX 111                            </td><td>   NA</td><td>Alabama</td><td>Choctaw</td><td>Not in a city            </td><td>NA                              </td><td>NA</td><td>2016-07-07</td></tr>\n",
       "\t<tr><td>1</td><td>23</td><td>2 </td><td>32.20556</td><td>-88.05361</td><td>NAD27</td><td> 37.00</td><td>INDUSTRIAL  </td><td>RURAL                </td><td>1981-01-01</td><td>⋯</td><td>Al Dept Of Env  Mgt                           </td><td>NA               </td><td>P.O. BOX 183                            </td><td>   NA</td><td>Alabama</td><td>Choctaw</td><td>Not in a City            </td><td>NA                              </td><td>NA</td><td>2016-07-07</td></tr>\n",
       "\t<tr><td>1</td><td>25</td><td>1 </td><td>31.96667</td><td>-87.78203</td><td>WGS84</td><td>160.00</td><td>AGRICULTURAL</td><td>RURAL                </td><td>1972-01-01</td><td>⋯</td><td>Al Dept Of Env  Mgt                           </td><td>NA               </td><td>CLARKE STREET (GROVE HILL)              </td><td>36784</td><td>Alabama</td><td>Clarke </td><td>Not in a City            </td><td>NA                              </td><td>NA</td><td>2016-07-07</td></tr>\n",
       "\t<tr><td>1</td><td>25</td><td>2 </td><td>31.69427</td><td>-87.77346</td><td>WGS84</td><td>152.00</td><td>COMMERCIAL  </td><td>SUBURBAN             </td><td>1974-01-01</td><td>⋯</td><td>Al Dept Of Env  Mgt                           </td><td>NA               </td><td>GROVE HILL MEMORIAL HOSPITAL HWY 43     </td><td>36451</td><td>Alabama</td><td>Clarke </td><td>Grove Hill               </td><td>NA                              </td><td>NA</td><td>2016-07-07</td></tr>\n",
       "</tbody>\n",
       "</table>\n"
      ],
      "text/latex": [
       "A tibble: 20 × 28\n",
       "\\begin{tabular}{lllllllllllllllllllll}\n",
       " State Code & County Code & Site Number & Latitude & Longitude & Datum & Elevation & Land Use & Location Setting & Site Established Date & ⋯ & Owning Agency & Local Site Name & Address & Zip Code & State Name & County Name & City Name & CBSA Name & Tribe Name & Extraction Date\\\\\n",
       " <chr> & <chr> & <chr> & <dbl> & <dbl> & <chr> & <dbl> & <chr> & <chr> & <dttm> & ⋯ & <chr> & <chr> & <chr> & <dbl> & <chr> & <chr> & <chr> & <chr> & <chr> & <dttm>\\\\\n",
       "\\hline\n",
       "\t 1 & 1  & 1  & 32.43746 & -86.47289 & WGS84 &  64.00 & RESIDENTIAL  & SUBURBAN              & 1974-05-01 & ⋯ & Al Dept Of Env  Mgt                            & NA                & KING ARTHUR TRAILER COURT, PRATTVILLE,AL & 36067 & Alabama & Autauga & Prattville                & Montgomery, AL                   & NA & 2016-07-07\\\\\n",
       "\t 1 & 1  & 2  & 32.42833 & -86.44361 & NAD27 &   0.00 & AGRICULTURAL & RURAL                 & 1980-01-01 & ⋯ & Al Dept Of Env  Mgt                            & NA                & COUNTY RD 4 PRATTVILLE EXPERIMENT ST     &    NA & Alabama & Autauga & Prattville                & Montgomery, AL                   & NA & 2016-07-07\\\\\n",
       "\t 1 & 1  & 3  & 32.33266 & -86.79152 & WGS84 &  41.00 & FOREST       & RURAL                 & 1989-08-31 & ⋯ & Al Dept Of Env  Mgt                            & NA                & 1170 COUNTY RD.15 SO., SELMA, AL. 36701  & 36003 & Alabama & Autauga & Not in a City             & Montgomery, AL                   & NA & 2016-07-07\\\\\n",
       "\t 1 & 3  & 1  &  0.00000 &   0.00000 & NAD27 &   0.00 & UNKNOWN      & RURAL                 & 1959-01-01 & ⋯ & US EPA National Exposure Research Lab          & NA                & CHANDLER RESIDENCE FT MORGAN STATE PARK  &    NA & Alabama & Baldwin & Not in a city             & Daphne-Fairhope-Foley, AL        & NA & 2016-07-07\\\\\n",
       "\t 1 & 3  & 2  & 30.55237 & -87.70691 & WGS84 &   0.00 & COMMERCIAL   & RURAL                 & 1974-01-01 & ⋯ & Al Dept Of Env  Mgt                            & NA                & COR PENNSYLVANIA \\& CHICAGO (ROBERTSDALE) & 36567 & Alabama & Baldwin & Robertsdale               & Daphne-Fairhope-Foley, AL        & NA & 2016-07-07\\\\\n",
       "\t 1 & 3  & 3  & 30.55528 & -87.71361 & NAD27 &  49.00 & COMMERCIAL   & URBAN AND CENTER CITY & 1977-08-12 & ⋯ & Al Dept Of Env  Mgt                            & NA                & RACINE AND MICHIGAN ST, ROBERTSDALE, AL. &    NA & Alabama & Baldwin & Not in a city             & Daphne-Fairhope-Foley, AL        & NA & 2016-07-07\\\\\n",
       "\t 1 & 3  & 10 & 30.49800 & -87.88141 & NAD83 &  37.19 & COMMERCIAL   & SUBURBAN              & 2000-01-01 & ⋯ & Al Dept Of Env  Mgt                            & FAIRHOPE, Alabama & FAIRHOPE HIGH SCHOOL, FAIRHOPE,  ALABAMA & 36532 & Alabama & Baldwin & Fairhope                  & Daphne-Fairhope-Foley, AL        & NA & 2016-07-07\\\\\n",
       "\t 1 & 5  & 1  & 31.89111 & -85.13528 & NAD27 &  85.00 & COMMERCIAL   & SUBURBAN              & 1974-01-01 & ⋯ & Al Dept Of Env  Mgt                            & NA                & 601 EAST BARBOUR US HGWY 82              &    NA & Alabama & Barbour & Eufaula                   & Eufaula, AL-GA                   & NA & 2016-07-07\\\\\n",
       "\t 1 & 5  & 2  & 31.66414 & -85.60623 & NAD27 & 143.26 & FOREST       & SUBURBAN              & 2003-10-06 & ⋯ & Al Dept Of Env  Mgt                            & CLIO              & 437 COUNTY ROAD 8, CLIO, ALABAMA         &    NA & Alabama & Barbour & Not in a city             & Eufaula, AL-GA                   & NA & 2016-07-07\\\\\n",
       "\t 1 & 7  & 1  & 32.90405 & -87.23306 & WGS84 & 445.00 & AGRICULTURAL & RURAL                 & 1991-07-15 & ⋯ & Environmental Science \\& Engineering, Inc (Ese) & NA                & 11.8 KM SW OF CENTREVILLE ON CNTY RD 25. & 35034 & Alabama & Bibb    & Centreville (Centerville) & Birmingham-Hoover, AL            & NA & 2016-07-07\\\\\n",
       "\t 1 & 9  & 1  & 33.95702 & -86.46444 & WGS84 & 250.00 & MOBILE       & URBAN AND CENTER CITY & 1957-01-01 & ⋯ & Al Dept Of Env  Mgt                            & NA                & COUNTY HEALTH DEPT 1002 2ND AVE EAST     & 35121 & Alabama & Blount  & Oneonta                   & Birmingham-Hoover, AL            & NA & 2016-07-07\\\\\n",
       "\t 1 & 9  & 2  & 33.94944 & -86.47306 & NAD27 &   6.00 & COMMERCIAL   & URBAN AND CENTER CITY & 1979-01-01 & ⋯ & Al Dept Of Env  Mgt                            & NA                & 5TH E \\& 4TH ST NORTH                     &    NA & Alabama & Blount  & Oneonta                   & Birmingham-Hoover, AL            & NA & 2016-07-07\\\\\n",
       "\t 1 & 15 & 1  & 33.65667 & -85.82444 & NAD27 & 237.00 & COMMERCIAL   & URBAN AND CENTER CITY & 1972-01-01 & ⋯ & Al Dept Of Env  Mgt                            & NA                & 309 EAST 8TH STREET                      &    NA & Alabama & Calhoun & Anniston                  & Anniston-Oxford-Jacksonville, AL & NA & 2016-07-07\\\\\n",
       "\t 1 & 15 & 2  & 33.68556 & -85.83778 & NAD27 & 247.00 & INDUSTRIAL   & SUBURBAN              & 1974-05-03 & ⋯ & Al Dept Of Env  Mgt                            & NA                & BLUE MTN POST OFFICE                     &    NA & Alabama & Calhoun & Anniston                  & Anniston-Oxford-Jacksonville, AL & NA & 2016-07-07\\\\\n",
       "\t 1 & 21 & 1  & 32.83956 & -86.63781 & WGS84 & 213.00 & RESIDENTIAL  & SUBURBAN              & 1972-01-01 & ⋯ & Al Dept Of Env  Mgt                            & NA                & 112 AUGUSTA STREET                       & 35045 & Alabama & Chilton & Clanton                   & Birmingham-Hoover, AL            & NA & 2016-07-07\\\\\n",
       "\t 1 & 21 & 2  & 32.83944 & -86.62889 & NAD27 & 171.00 & COMMERCIAL   & URBAN AND CENTER CITY & 1976-01-01 & ⋯ & Al Dept Of Env  Mgt                            & NA                & 1ST AVE \\& 5TH AVE                        &    NA & Alabama & Chilton & Clanton                   & Birmingham-Hoover, AL            & NA & 2016-07-07\\\\\n",
       "\t 1 & 23 & 1  & 32.20917 & -88.05194 & NAD27 &  39.00 & INDUSTRIAL   & RURAL                 & 1974-01-01 & ⋯ & Al Dept Of Env  Mgt                            & NA                & P.O. BOX 111                             &    NA & Alabama & Choctaw & Not in a city             & NA                               & NA & 2016-07-07\\\\\n",
       "\t 1 & 23 & 2  & 32.20556 & -88.05361 & NAD27 &  37.00 & INDUSTRIAL   & RURAL                 & 1981-01-01 & ⋯ & Al Dept Of Env  Mgt                            & NA                & P.O. BOX 183                             &    NA & Alabama & Choctaw & Not in a City             & NA                               & NA & 2016-07-07\\\\\n",
       "\t 1 & 25 & 1  & 31.96667 & -87.78203 & WGS84 & 160.00 & AGRICULTURAL & RURAL                 & 1972-01-01 & ⋯ & Al Dept Of Env  Mgt                            & NA                & CLARKE STREET (GROVE HILL)               & 36784 & Alabama & Clarke  & Not in a City             & NA                               & NA & 2016-07-07\\\\\n",
       "\t 1 & 25 & 2  & 31.69427 & -87.77346 & WGS84 & 152.00 & COMMERCIAL   & SUBURBAN              & 1974-01-01 & ⋯ & Al Dept Of Env  Mgt                            & NA                & GROVE HILL MEMORIAL HOSPITAL HWY 43      & 36451 & Alabama & Clarke  & Grove Hill                & NA                               & NA & 2016-07-07\\\\\n",
       "\\end{tabular}\n"
      ],
      "text/markdown": [
       "\n",
       "A tibble: 20 × 28\n",
       "\n",
       "| State Code &lt;chr&gt; | County Code &lt;chr&gt; | Site Number &lt;chr&gt; | Latitude &lt;dbl&gt; | Longitude &lt;dbl&gt; | Datum &lt;chr&gt; | Elevation &lt;dbl&gt; | Land Use &lt;chr&gt; | Location Setting &lt;chr&gt; | Site Established Date &lt;dttm&gt; | ⋯ ⋯ | Owning Agency &lt;chr&gt; | Local Site Name &lt;chr&gt; | Address &lt;chr&gt; | Zip Code &lt;dbl&gt; | State Name &lt;chr&gt; | County Name &lt;chr&gt; | City Name &lt;chr&gt; | CBSA Name &lt;chr&gt; | Tribe Name &lt;chr&gt; | Extraction Date &lt;dttm&gt; |\n",
       "|---|---|---|---|---|---|---|---|---|---|---|---|---|---|---|---|---|---|---|---|---|\n",
       "| 1 | 1  | 1  | 32.43746 | -86.47289 | WGS84 |  64.00 | RESIDENTIAL  | SUBURBAN              | 1974-05-01 | ⋯ | Al Dept Of Env  Mgt                            | NA                | KING ARTHUR TRAILER COURT, PRATTVILLE,AL | 36067 | Alabama | Autauga | Prattville                | Montgomery, AL                   | NA | 2016-07-07 |\n",
       "| 1 | 1  | 2  | 32.42833 | -86.44361 | NAD27 |   0.00 | AGRICULTURAL | RURAL                 | 1980-01-01 | ⋯ | Al Dept Of Env  Mgt                            | NA                | COUNTY RD 4 PRATTVILLE EXPERIMENT ST     |    NA | Alabama | Autauga | Prattville                | Montgomery, AL                   | NA | 2016-07-07 |\n",
       "| 1 | 1  | 3  | 32.33266 | -86.79152 | WGS84 |  41.00 | FOREST       | RURAL                 | 1989-08-31 | ⋯ | Al Dept Of Env  Mgt                            | NA                | 1170 COUNTY RD.15 SO., SELMA, AL. 36701  | 36003 | Alabama | Autauga | Not in a City             | Montgomery, AL                   | NA | 2016-07-07 |\n",
       "| 1 | 3  | 1  |  0.00000 |   0.00000 | NAD27 |   0.00 | UNKNOWN      | RURAL                 | 1959-01-01 | ⋯ | US EPA National Exposure Research Lab          | NA                | CHANDLER RESIDENCE FT MORGAN STATE PARK  |    NA | Alabama | Baldwin | Not in a city             | Daphne-Fairhope-Foley, AL        | NA | 2016-07-07 |\n",
       "| 1 | 3  | 2  | 30.55237 | -87.70691 | WGS84 |   0.00 | COMMERCIAL   | RURAL                 | 1974-01-01 | ⋯ | Al Dept Of Env  Mgt                            | NA                | COR PENNSYLVANIA &amp; CHICAGO (ROBERTSDALE) | 36567 | Alabama | Baldwin | Robertsdale               | Daphne-Fairhope-Foley, AL        | NA | 2016-07-07 |\n",
       "| 1 | 3  | 3  | 30.55528 | -87.71361 | NAD27 |  49.00 | COMMERCIAL   | URBAN AND CENTER CITY | 1977-08-12 | ⋯ | Al Dept Of Env  Mgt                            | NA                | RACINE AND MICHIGAN ST, ROBERTSDALE, AL. |    NA | Alabama | Baldwin | Not in a city             | Daphne-Fairhope-Foley, AL        | NA | 2016-07-07 |\n",
       "| 1 | 3  | 10 | 30.49800 | -87.88141 | NAD83 |  37.19 | COMMERCIAL   | SUBURBAN              | 2000-01-01 | ⋯ | Al Dept Of Env  Mgt                            | FAIRHOPE, Alabama | FAIRHOPE HIGH SCHOOL, FAIRHOPE,  ALABAMA | 36532 | Alabama | Baldwin | Fairhope                  | Daphne-Fairhope-Foley, AL        | NA | 2016-07-07 |\n",
       "| 1 | 5  | 1  | 31.89111 | -85.13528 | NAD27 |  85.00 | COMMERCIAL   | SUBURBAN              | 1974-01-01 | ⋯ | Al Dept Of Env  Mgt                            | NA                | 601 EAST BARBOUR US HGWY 82              |    NA | Alabama | Barbour | Eufaula                   | Eufaula, AL-GA                   | NA | 2016-07-07 |\n",
       "| 1 | 5  | 2  | 31.66414 | -85.60623 | NAD27 | 143.26 | FOREST       | SUBURBAN              | 2003-10-06 | ⋯ | Al Dept Of Env  Mgt                            | CLIO              | 437 COUNTY ROAD 8, CLIO, ALABAMA         |    NA | Alabama | Barbour | Not in a city             | Eufaula, AL-GA                   | NA | 2016-07-07 |\n",
       "| 1 | 7  | 1  | 32.90405 | -87.23306 | WGS84 | 445.00 | AGRICULTURAL | RURAL                 | 1991-07-15 | ⋯ | Environmental Science &amp; Engineering, Inc (Ese) | NA                | 11.8 KM SW OF CENTREVILLE ON CNTY RD 25. | 35034 | Alabama | Bibb    | Centreville (Centerville) | Birmingham-Hoover, AL            | NA | 2016-07-07 |\n",
       "| 1 | 9  | 1  | 33.95702 | -86.46444 | WGS84 | 250.00 | MOBILE       | URBAN AND CENTER CITY | 1957-01-01 | ⋯ | Al Dept Of Env  Mgt                            | NA                | COUNTY HEALTH DEPT 1002 2ND AVE EAST     | 35121 | Alabama | Blount  | Oneonta                   | Birmingham-Hoover, AL            | NA | 2016-07-07 |\n",
       "| 1 | 9  | 2  | 33.94944 | -86.47306 | NAD27 |   6.00 | COMMERCIAL   | URBAN AND CENTER CITY | 1979-01-01 | ⋯ | Al Dept Of Env  Mgt                            | NA                | 5TH E &amp; 4TH ST NORTH                     |    NA | Alabama | Blount  | Oneonta                   | Birmingham-Hoover, AL            | NA | 2016-07-07 |\n",
       "| 1 | 15 | 1  | 33.65667 | -85.82444 | NAD27 | 237.00 | COMMERCIAL   | URBAN AND CENTER CITY | 1972-01-01 | ⋯ | Al Dept Of Env  Mgt                            | NA                | 309 EAST 8TH STREET                      |    NA | Alabama | Calhoun | Anniston                  | Anniston-Oxford-Jacksonville, AL | NA | 2016-07-07 |\n",
       "| 1 | 15 | 2  | 33.68556 | -85.83778 | NAD27 | 247.00 | INDUSTRIAL   | SUBURBAN              | 1974-05-03 | ⋯ | Al Dept Of Env  Mgt                            | NA                | BLUE MTN POST OFFICE                     |    NA | Alabama | Calhoun | Anniston                  | Anniston-Oxford-Jacksonville, AL | NA | 2016-07-07 |\n",
       "| 1 | 21 | 1  | 32.83956 | -86.63781 | WGS84 | 213.00 | RESIDENTIAL  | SUBURBAN              | 1972-01-01 | ⋯ | Al Dept Of Env  Mgt                            | NA                | 112 AUGUSTA STREET                       | 35045 | Alabama | Chilton | Clanton                   | Birmingham-Hoover, AL            | NA | 2016-07-07 |\n",
       "| 1 | 21 | 2  | 32.83944 | -86.62889 | NAD27 | 171.00 | COMMERCIAL   | URBAN AND CENTER CITY | 1976-01-01 | ⋯ | Al Dept Of Env  Mgt                            | NA                | 1ST AVE &amp; 5TH AVE                        |    NA | Alabama | Chilton | Clanton                   | Birmingham-Hoover, AL            | NA | 2016-07-07 |\n",
       "| 1 | 23 | 1  | 32.20917 | -88.05194 | NAD27 |  39.00 | INDUSTRIAL   | RURAL                 | 1974-01-01 | ⋯ | Al Dept Of Env  Mgt                            | NA                | P.O. BOX 111                             |    NA | Alabama | Choctaw | Not in a city             | NA                               | NA | 2016-07-07 |\n",
       "| 1 | 23 | 2  | 32.20556 | -88.05361 | NAD27 |  37.00 | INDUSTRIAL   | RURAL                 | 1981-01-01 | ⋯ | Al Dept Of Env  Mgt                            | NA                | P.O. BOX 183                             |    NA | Alabama | Choctaw | Not in a City             | NA                               | NA | 2016-07-07 |\n",
       "| 1 | 25 | 1  | 31.96667 | -87.78203 | WGS84 | 160.00 | AGRICULTURAL | RURAL                 | 1972-01-01 | ⋯ | Al Dept Of Env  Mgt                            | NA                | CLARKE STREET (GROVE HILL)               | 36784 | Alabama | Clarke  | Not in a City             | NA                               | NA | 2016-07-07 |\n",
       "| 1 | 25 | 2  | 31.69427 | -87.77346 | WGS84 | 152.00 | COMMERCIAL   | SUBURBAN              | 1974-01-01 | ⋯ | Al Dept Of Env  Mgt                            | NA                | GROVE HILL MEMORIAL HOSPITAL HWY 43      | 36451 | Alabama | Clarke  | Grove Hill                | NA                               | NA | 2016-07-07 |\n",
       "\n"
      ],
      "text/plain": [
       "   State Code County Code Site Number Latitude Longitude Datum Elevation\n",
       "1  1          1           1           32.43746 -86.47289 WGS84  64.00   \n",
       "2  1          1           2           32.42833 -86.44361 NAD27   0.00   \n",
       "3  1          1           3           32.33266 -86.79152 WGS84  41.00   \n",
       "4  1          3           1            0.00000   0.00000 NAD27   0.00   \n",
       "5  1          3           2           30.55237 -87.70691 WGS84   0.00   \n",
       "6  1          3           3           30.55528 -87.71361 NAD27  49.00   \n",
       "7  1          3           10          30.49800 -87.88141 NAD83  37.19   \n",
       "8  1          5           1           31.89111 -85.13528 NAD27  85.00   \n",
       "9  1          5           2           31.66414 -85.60623 NAD27 143.26   \n",
       "10 1          7           1           32.90405 -87.23306 WGS84 445.00   \n",
       "11 1          9           1           33.95702 -86.46444 WGS84 250.00   \n",
       "12 1          9           2           33.94944 -86.47306 NAD27   6.00   \n",
       "13 1          15          1           33.65667 -85.82444 NAD27 237.00   \n",
       "14 1          15          2           33.68556 -85.83778 NAD27 247.00   \n",
       "15 1          21          1           32.83956 -86.63781 WGS84 213.00   \n",
       "16 1          21          2           32.83944 -86.62889 NAD27 171.00   \n",
       "17 1          23          1           32.20917 -88.05194 NAD27  39.00   \n",
       "18 1          23          2           32.20556 -88.05361 NAD27  37.00   \n",
       "19 1          25          1           31.96667 -87.78203 WGS84 160.00   \n",
       "20 1          25          2           31.69427 -87.77346 WGS84 152.00   \n",
       "   Land Use     Location Setting      Site Established Date ⋯\n",
       "1  RESIDENTIAL  SUBURBAN              1974-05-01            ⋯\n",
       "2  AGRICULTURAL RURAL                 1980-01-01            ⋯\n",
       "3  FOREST       RURAL                 1989-08-31            ⋯\n",
       "4  UNKNOWN      RURAL                 1959-01-01            ⋯\n",
       "5  COMMERCIAL   RURAL                 1974-01-01            ⋯\n",
       "6  COMMERCIAL   URBAN AND CENTER CITY 1977-08-12            ⋯\n",
       "7  COMMERCIAL   SUBURBAN              2000-01-01            ⋯\n",
       "8  COMMERCIAL   SUBURBAN              1974-01-01            ⋯\n",
       "9  FOREST       SUBURBAN              2003-10-06            ⋯\n",
       "10 AGRICULTURAL RURAL                 1991-07-15            ⋯\n",
       "11 MOBILE       URBAN AND CENTER CITY 1957-01-01            ⋯\n",
       "12 COMMERCIAL   URBAN AND CENTER CITY 1979-01-01            ⋯\n",
       "13 COMMERCIAL   URBAN AND CENTER CITY 1972-01-01            ⋯\n",
       "14 INDUSTRIAL   SUBURBAN              1974-05-03            ⋯\n",
       "15 RESIDENTIAL  SUBURBAN              1972-01-01            ⋯\n",
       "16 COMMERCIAL   URBAN AND CENTER CITY 1976-01-01            ⋯\n",
       "17 INDUSTRIAL   RURAL                 1974-01-01            ⋯\n",
       "18 INDUSTRIAL   RURAL                 1981-01-01            ⋯\n",
       "19 AGRICULTURAL RURAL                 1972-01-01            ⋯\n",
       "20 COMMERCIAL   SUBURBAN              1974-01-01            ⋯\n",
       "   Owning Agency                                  Local Site Name  \n",
       "1  Al Dept Of Env  Mgt                            NA               \n",
       "2  Al Dept Of Env  Mgt                            NA               \n",
       "3  Al Dept Of Env  Mgt                            NA               \n",
       "4  US EPA National Exposure Research Lab          NA               \n",
       "5  Al Dept Of Env  Mgt                            NA               \n",
       "6  Al Dept Of Env  Mgt                            NA               \n",
       "7  Al Dept Of Env  Mgt                            FAIRHOPE, Alabama\n",
       "8  Al Dept Of Env  Mgt                            NA               \n",
       "9  Al Dept Of Env  Mgt                            CLIO             \n",
       "10 Environmental Science & Engineering, Inc (Ese) NA               \n",
       "11 Al Dept Of Env  Mgt                            NA               \n",
       "12 Al Dept Of Env  Mgt                            NA               \n",
       "13 Al Dept Of Env  Mgt                            NA               \n",
       "14 Al Dept Of Env  Mgt                            NA               \n",
       "15 Al Dept Of Env  Mgt                            NA               \n",
       "16 Al Dept Of Env  Mgt                            NA               \n",
       "17 Al Dept Of Env  Mgt                            NA               \n",
       "18 Al Dept Of Env  Mgt                            NA               \n",
       "19 Al Dept Of Env  Mgt                            NA               \n",
       "20 Al Dept Of Env  Mgt                            NA               \n",
       "   Address                                  Zip Code State Name County Name\n",
       "1  KING ARTHUR TRAILER COURT, PRATTVILLE,AL 36067    Alabama    Autauga    \n",
       "2  COUNTY RD 4 PRATTVILLE EXPERIMENT ST        NA    Alabama    Autauga    \n",
       "3  1170 COUNTY RD.15 SO., SELMA, AL. 36701  36003    Alabama    Autauga    \n",
       "4  CHANDLER RESIDENCE FT MORGAN STATE PARK     NA    Alabama    Baldwin    \n",
       "5  COR PENNSYLVANIA & CHICAGO (ROBERTSDALE) 36567    Alabama    Baldwin    \n",
       "6  RACINE AND MICHIGAN ST, ROBERTSDALE, AL.    NA    Alabama    Baldwin    \n",
       "7  FAIRHOPE HIGH SCHOOL, FAIRHOPE,  ALABAMA 36532    Alabama    Baldwin    \n",
       "8  601 EAST BARBOUR US HGWY 82                 NA    Alabama    Barbour    \n",
       "9  437 COUNTY ROAD 8, CLIO, ALABAMA            NA    Alabama    Barbour    \n",
       "10 11.8 KM SW OF CENTREVILLE ON CNTY RD 25. 35034    Alabama    Bibb       \n",
       "11 COUNTY HEALTH DEPT 1002 2ND AVE EAST     35121    Alabama    Blount     \n",
       "12 5TH E & 4TH ST NORTH                        NA    Alabama    Blount     \n",
       "13 309 EAST 8TH STREET                         NA    Alabama    Calhoun    \n",
       "14 BLUE MTN POST OFFICE                        NA    Alabama    Calhoun    \n",
       "15 112 AUGUSTA STREET                       35045    Alabama    Chilton    \n",
       "16 1ST AVE & 5TH AVE                           NA    Alabama    Chilton    \n",
       "17 P.O. BOX 111                                NA    Alabama    Choctaw    \n",
       "18 P.O. BOX 183                                NA    Alabama    Choctaw    \n",
       "19 CLARKE STREET (GROVE HILL)               36784    Alabama    Clarke     \n",
       "20 GROVE HILL MEMORIAL HOSPITAL HWY 43      36451    Alabama    Clarke     \n",
       "   City Name                 CBSA Name                        Tribe Name\n",
       "1  Prattville                Montgomery, AL                   NA        \n",
       "2  Prattville                Montgomery, AL                   NA        \n",
       "3  Not in a City             Montgomery, AL                   NA        \n",
       "4  Not in a city             Daphne-Fairhope-Foley, AL        NA        \n",
       "5  Robertsdale               Daphne-Fairhope-Foley, AL        NA        \n",
       "6  Not in a city             Daphne-Fairhope-Foley, AL        NA        \n",
       "7  Fairhope                  Daphne-Fairhope-Foley, AL        NA        \n",
       "8  Eufaula                   Eufaula, AL-GA                   NA        \n",
       "9  Not in a city             Eufaula, AL-GA                   NA        \n",
       "10 Centreville (Centerville) Birmingham-Hoover, AL            NA        \n",
       "11 Oneonta                   Birmingham-Hoover, AL            NA        \n",
       "12 Oneonta                   Birmingham-Hoover, AL            NA        \n",
       "13 Anniston                  Anniston-Oxford-Jacksonville, AL NA        \n",
       "14 Anniston                  Anniston-Oxford-Jacksonville, AL NA        \n",
       "15 Clanton                   Birmingham-Hoover, AL            NA        \n",
       "16 Clanton                   Birmingham-Hoover, AL            NA        \n",
       "17 Not in a city             NA                               NA        \n",
       "18 Not in a City             NA                               NA        \n",
       "19 Not in a City             NA                               NA        \n",
       "20 Grove Hill                NA                               NA        \n",
       "   Extraction Date\n",
       "1  2016-07-07     \n",
       "2  2016-07-07     \n",
       "3  2016-07-07     \n",
       "4  2016-07-07     \n",
       "5  2016-07-07     \n",
       "6  2016-07-07     \n",
       "7  2016-07-07     \n",
       "8  2016-07-07     \n",
       "9  2016-07-07     \n",
       "10 2016-07-07     \n",
       "11 2016-07-07     \n",
       "12 2016-07-07     \n",
       "13 2016-07-07     \n",
       "14 2016-07-07     \n",
       "15 2016-07-07     \n",
       "16 2016-07-07     \n",
       "17 2016-07-07     \n",
       "18 2016-07-07     \n",
       "19 2016-07-07     \n",
       "20 2016-07-07     "
      ]
     },
     "metadata": {},
     "output_type": "display_data"
    }
   ],
   "source": [
    "# Load the dataset:\n",
    "col_types <- c(rep(\"text\", times = 3), rep(\"guess\", times = 25))\n",
    "sites <- read_excel(\"aqs_sites.xlsx\", col_types = col_types)\n",
    "\n",
    "# Print the first 20 rows:\n",
    "head(sites, 20L)"
   ]
  },
  {
   "cell_type": "markdown",
   "metadata": {},
   "source": [
    "## Question 6\n",
    "\n",
    "How many monitoring sites are labelled as both \"RESIDENTIAL\" for \"Land Use\" and\n",
    "\"SUBURBAN\" for \"Location Setting\"?\n"
   ]
  },
  {
   "cell_type": "code",
   "execution_count": 9,
   "metadata": {
    "lines_to_next_cell": 2
   },
   "outputs": [
    {
     "name": "stdout",
     "output_type": "stream",
     "text": [
      "Number of monitoring sites = 3527\n"
     ]
    }
   ],
   "source": [
    "# Compute the number of monitoring sites:\n",
    "fltr_loc <- sites[\"Location Setting\"] == \"SUBURBAN\"\n",
    "fltr_luse <- sites[\"Land Use\"] == \"RESIDENTIAL\"\n",
    "sites_count <- sum(fltr_loc & fltr_luse, na.rm = TRUE)\n",
    "printf(\"Number of monitoring sites = %d\\n\", sites_count)"
   ]
  },
  {
   "cell_type": "markdown",
   "metadata": {},
   "source": [
    "## Question 7\n",
    "\n",
    "What is the median level of \"EC PM2.5 LC TOR\" amongst monitoring sites that are\n",
    "labelled as both \"RESIDENTIAL\" and \"SUBURBAN\" in the eastern US, where eastern\n",
    "is defined as longitude greater than or equal to -100?\n"
   ]
  },
  {
   "cell_type": "code",
   "execution_count": 10,
   "metadata": {
    "lines_to_next_cell": 2
   },
   "outputs": [
    {
     "name": "stdout",
     "output_type": "stream",
     "text": [
      "Median level = 0.6100\n"
     ]
    }
   ],
   "source": [
    "# Get the relevant data from the 1st dataset:\n",
    "fltrd_1 <- filter_at(part_matter, vars(\"Parameter Name\"), ~ .x == \"EC PM2.5 LC TOR\")\n",
    "fltrd_1 <- fltrd_1[c(\"State Code\", \"County Code\", \"Site Num\", \"Arithmetic Mean\")]\n",
    "fltrd_1 <- mutate_at(fltrd_1, vars(\"State Code\", \"County Code\", \"Site Num\"), as.numeric)\n",
    "\n",
    "# Get the relevant data from the 2nd dataset:\n",
    "fltrd_2 <- filter(\n",
    "    sites,\n",
    "    .data[[\"Land Use\"]] == \"RESIDENTIAL\",\n",
    "    .data[[\"Location Setting\"]] == \"SUBURBAN\",\n",
    "    .data[[\"Longitude\"]] >= -100\n",
    ")\n",
    "fltrd_2 <- fltrd_2[c(\"State Code\", \"County Code\", \"Site Number\")]\n",
    "colnames(fltrd_2)[3] <- \"Site Num\"\n",
    "fltrd_2 <- mutate_at(fltrd_2, vars(\"State Code\", \"County Code\", \"Site Num\"), as.numeric)\n",
    "\n",
    "# Compute the median level:\n",
    "jds <- inner_join(fltrd_1, fltrd_2, by = c(\"State Code\", \"County Code\", \"Site Num\"))\n",
    "median_lvl <- median(jds[[\"Arithmetic Mean\"]], na.rm = TRUE)\n",
    "printf(\"Median level = %.4f\\n\", median_lvl)"
   ]
  },
  {
   "cell_type": "markdown",
   "metadata": {},
   "source": [
    "## Question 8\n",
    "\n",
    "Amongst monitoring sites that are labeled as \"COMMERCIAL\" for \"Land Use\", which\n",
    "month of the year has the highest average levels of \"Sulfate PM2.5 LC\"?\n"
   ]
  },
  {
   "cell_type": "code",
   "execution_count": 11,
   "metadata": {
    "lines_to_next_cell": 2
   },
   "outputs": [
    {
     "name": "stdout",
     "output_type": "stream",
     "text": [
      "Month with the highest average level = 02\n"
     ]
    }
   ],
   "source": [
    "# Get the relevant data from the 1st dataset:\n",
    "fltrd_1 <- filter_at(part_matter, vars(\"Parameter Name\"), ~ .x == \"Sulfate PM2.5 LC\")\n",
    "fltrd_1 <- fltrd_1[c(\"State Code\", \"County Code\", \"Site Num\", \"Arithmetic Mean\", \"Date Local\")]\n",
    "fltrd_1 <- mutate_at(fltrd_1, vars(\"State Code\", \"County Code\", \"Site Num\"), as.numeric)\n",
    "fltrd_1 <- mutate_at(fltrd_1, vars(\"Date Local\"), ~ format(.x, \"%m\"))\n",
    "colnames(fltrd_1)[5] <- \"Month\"\n",
    "\n",
    "# Get the relevant data from the 2nd dataset:\n",
    "fltrd_2 <- filter_at(sites, vars(\"Land Use\"), ~ .x == \"COMMERCIAL\")\n",
    "fltrd_2 <- fltrd_2[c(\"State Code\", \"County Code\", \"Site Number\")]\n",
    "colnames(fltrd_2)[3] <- \"Site Num\"\n",
    "fltrd_2 <- suppressWarnings(mutate_at(fltrd_2, vars(\"State Code\", \"County Code\", \"Site Num\"), as.numeric))\n",
    "\n",
    "# Month with the highest average level:\n",
    "jds <- inner_join(fltrd_1, fltrd_2, by = c(\"State Code\", \"County Code\", \"Site Num\"))\n",
    "avg_lvl <- summarise_at(group_by_at(jds, vars(\"Month\")), vars(\"Arithmetic Mean\"), mean, na.rm = TRUE)\n",
    "mon <- pull(filter_at(avg_lvl, vars(\"Arithmetic Mean\"), ~ .x == max(avg_lvl[\"Arithmetic Mean\"])), 1)\n",
    "printf(\"Month with the highest average level = %s\\n\", mon)"
   ]
  },
  {
   "cell_type": "markdown",
   "metadata": {},
   "source": [
    "## Question 9\n",
    "\n",
    "Take a look at the data for the monitoring site identified by State Code 6,\n",
    "County Code 65, and Site Number 8001 (this monitor is in California). At this\n",
    "monitor, for how many days is the sum of \"Sulfate PM2.5 LC\" and \"Total Nitrate\n",
    "PM2.5 LC\" greater than 10?\n",
    "\n",
    "For each of the chemical constituents, there will be some dates that have\n",
    "multiple \"Arithmetic Mean\" values at this monitoring site. When there are\n",
    "multiple values on a given date, take the average of the constituent values for\n",
    "that date.\n"
   ]
  },
  {
   "cell_type": "code",
   "execution_count": 12,
   "metadata": {
    "lines_to_next_cell": 2
   },
   "outputs": [
    {
     "name": "stdout",
     "output_type": "stream",
     "text": [
      "Number of days = 11\n"
     ]
    }
   ],
   "source": [
    "# Get the relevant data from the 1st dataset:\n",
    "fltrd_1 <- filter(\n",
    "    part_matter,\n",
    "    as.numeric(.data[[\"State Code\"]]) == 6,\n",
    "    as.numeric(.data[[\"County Code\"]]) == 65,\n",
    "    as.numeric(.data[[\"Site Num\"]]) == 8001,\n",
    "    .data[[\"Parameter Name\"]] == \"Sulfate PM2.5 LC\" | .data[[\"Parameter Name\"]] == \"Total Nitrate PM2.5 LC\"\n",
    ")\n",
    "fltrd_1 <- fltrd_1[c(\"Date Local\", \"Parameter Name\", \"Arithmetic Mean\")]\n",
    "\n",
    "# Sulfate:\n",
    "sulf <- filter_at(fltrd_1, vars(\"Parameter Name\"), ~ .x == \"Sulfate PM2.5 LC\")\n",
    "sulf <- sulf[c(\"Date Local\", \"Arithmetic Mean\")]\n",
    "colnames(sulf)[2] <- \"Sulfate\"\n",
    "sulf <- summarise_at(group_by_at(sulf, vars(\"Date Local\")), vars(\"Sulfate\"), mean, na.rm = TRUE)\n",
    "\n",
    "# Total Nitrate:\n",
    "tot_nit <- filter_at(fltrd_1, vars(\"Parameter Name\"), ~ .x == \"Total Nitrate PM2.5 LC\")\n",
    "tot_nit <- tot_nit[c(\"Date Local\", \"Arithmetic Mean\")]\n",
    "colnames(tot_nit)[2] <- \"Total Nitrate\"\n",
    "tot_nit <- summarise_at(group_by_at(tot_nit, vars(\"Date Local\")), vars(\"Total Nitrate\"), mean, na.rm = TRUE)\n",
    "\n",
    "# Compute the number of days:\n",
    "jds <- inner_join(sulf, tot_nit, by = \"Date Local\")\n",
    "days <- nrow(filter(jds, .data[[\"Sulfate\"]] + .data[[\"Total Nitrate\"]] > 10))\n",
    "printf(\"Number of days = %d\\n\", days)"
   ]
  },
  {
   "cell_type": "markdown",
   "metadata": {},
   "source": [
    "## Question 10\n",
    "\n",
    "Which monitoring site in the dataset has the highest correlation between\n",
    "\"Sulfate PM2.5 LC\" and \"Total Nitrate PM2.5 LC\" across all dates? Identify the\n",
    "monitoring site by its State, County, and Site Number code.\n"
   ]
  },
  {
   "cell_type": "code",
   "execution_count": 13,
   "metadata": {},
   "outputs": [
    {
     "name": "stdout",
     "output_type": "stream",
     "text": [
      "Monitoring site with the highest correlation:\n",
      "State Code  - 02\n",
      "County Code - 090\n",
      "Site Num    - 0035\n"
     ]
    }
   ],
   "source": [
    "# Get the relevant data from the 1st dataset:\n",
    "fltrd_1 <- filter_at(\n",
    "    part_matter, vars(\"Parameter Name\"),\n",
    "    ~ .x == \"Sulfate PM2.5 LC\" | .x == \"Total Nitrate PM2.5 LC\"\n",
    ")\n",
    "fltrd_1 <- fltrd_1[c(\"State Code\", \"County Code\", \"Site Num\", \"Date Local\", \"Parameter Name\", \"Arithmetic Mean\")]\n",
    "\n",
    "# Sulfate:\n",
    "sulf <- filter_at(fltrd_1, vars(\"Parameter Name\"), ~ .x == \"Sulfate PM2.5 LC\")\n",
    "sulf <- sulf[c(\"State Code\", \"County Code\", \"Site Num\", \"Date Local\", \"Arithmetic Mean\")]\n",
    "colnames(sulf)[5] <- \"Sulfate\"\n",
    "sulf <- summarise_at(\n",
    "    group_by_at(\n",
    "        sulf, vars(\"State Code\", \"County Code\", \"Site Num\", \"Date Local\")\n",
    "    ),\n",
    "    vars(\"Sulfate\"), mean, na.rm = TRUE\n",
    ")\n",
    "\n",
    "# Total Nitrate:\n",
    "tot_nit <- filter_at(fltrd_1, vars(\"Parameter Name\"), ~ .x == \"Total Nitrate PM2.5 LC\")\n",
    "tot_nit <- tot_nit[c(\"State Code\", \"County Code\", \"Site Num\", \"Date Local\", \"Arithmetic Mean\")]\n",
    "colnames(tot_nit)[5] <- \"Total Nitrate\"\n",
    "tot_nit <- summarise_at(\n",
    "    group_by_at(\n",
    "        tot_nit, vars(\"State Code\", \"County Code\", \"Site Num\", \"Date Local\")\n",
    "    ),\n",
    "    vars(\"Total Nitrate\"), mean, na.rm = TRUE\n",
    ")\n",
    "\n",
    "# Monitoring site with the highest correlation:\n",
    "jds <- inner_join(sulf, tot_nit, by = c(\"State Code\", \"County Code\", \"Site Num\", \"Date Local\"))\n",
    "corrs <- summarise(\n",
    "    jds, Correlations = cor(.data[[\"Sulfate\"]], .data[[\"Total Nitrate\"]]), .groups = \"drop\"\n",
    ")\n",
    "tmp <- filter_at(corrs, vars(\"Correlations\"), ~ .x == max(corrs[\"Correlations\"]))\n",
    "printf(\"Monitoring site with the highest correlation:\\n\")\n",
    "printf(\"State Code  - %s\\n\", pull(tmp, 1))\n",
    "printf(\"County Code - %s\\n\", pull(tmp, 2))\n",
    "printf(\"Site Num    - %s\\n\", pull(tmp, 3))"
   ]
  }
 ],
 "metadata": {
  "jupytext": {
   "formats": "ipynb,Rmd"
  },
  "kernelspec": {
   "display_name": "R",
   "language": "R",
   "name": "ir"
  },
  "language_info": {
   "codemirror_mode": "r",
   "file_extension": ".r",
   "mimetype": "text/x-r-source",
   "name": "R",
   "pygments_lexer": "r",
   "version": "3.5.2"
  }
 },
 "nbformat": 4,
 "nbformat_minor": 4
}
